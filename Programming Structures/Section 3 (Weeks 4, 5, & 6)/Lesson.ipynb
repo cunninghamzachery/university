{
  "metadata": {
    "kernelspec": {
      "name": "xpython",
      "display_name": "Python 3.13 (XPython)",
      "language": "python"
    },
    "language_info": {
      "file_extension": ".py",
      "mimetype": "text/x-python",
      "name": "python",
      "version": "3.13.1"
    }
  },
  "nbformat_minor": 5,
  "nbformat": 4,
  "cells": [
    {
      "id": "115d354c",
      "cell_type": "markdown",
      "source": "\n# Sorting Algorithms\n\nThis notebook covers the most common sorting algorithms with step-by-step examples, implementations, and complexity analysis suitable.\n\n**Included:**\n- Bubble Sort (with trace)\n- Selection Sort (with trace)\n- Insertion Sort (with trace)\n- Merge Sort (non‑recursive, bottom‑up)\n- Quick Sort (non‑recursive, stack‑based)\n",
      "metadata": {}
    },
    {
      "id": "e3d480d6",
      "cell_type": "markdown",
      "source": "\n## A quick note on examples\nTo avoid modifying the original example list while tracing, we often pass `arr.copy()` into the trace functions so that the original input is preserved for later comparisons.\n",
      "metadata": {}
    },
    {
      "id": "5bed1986",
      "cell_type": "markdown",
      "source": "\n## 1) 🫧 Bubble Sort\n\n### Concept\nBubble Sort repeatedly scans the list, comparing **adjacent** elements and swapping them if they are in the wrong order. After each full pass, the largest remaining element **“bubbles”** to its final position at the end of the list.\n\n**Key idea:** adjacent comparisons + swaps → largest item reaches the end after each pass.\n",
      "metadata": {}
    },
    {
      "id": "b2de22cc",
      "cell_type": "markdown",
      "source": "\n### Step-by-step example\nSort the array: `[5, 2, 9, 1, 5]`\n\n- **Pass 1**\n  - Compare 5 and 2 → swap → `[2, 5, 9, 1, 5]`\n  - Compare 5 and 9 → no swap → `[2, 5, 9, 1, 5]`\n  - Compare 9 and 1 → swap → `[2, 5, 1, 9, 5]`\n  - Compare 9 and 5 → swap → `[2, 5, 1, 5, 9]`\n  - Largest element (9) placed at the end.\n- **Pass 2**\n  - Compare 2 and 5 → no swap → `[2, 5, 1, 5, 9]`\n  - Compare 5 and 1 → swap → `[2, 1, 5, 5, 9]`\n  - Compare 5 and 5 → no swap → `[2, 1, 5, 5, 9]`\n- **Pass 3**\n  - Compare 2 and 1 → swap → `[1, 2, 5, 5, 9]`\n  - Compare 2 and 5 → no swap → `[1, 2, 5, 5, 9]`\n- **Pass 4**\n  - Compare 1 and 2 → no swap → `[1, 2, 5, 5, 9]`\n\n**Final:** `[1, 2, 5, 5, 9]`\n",
      "metadata": {}
    },
    {
      "id": "53474761-1cbe-45a2-afc5-76eda8fefefd",
      "cell_type": "code",
      "source": "",
      "metadata": {
        "trusted": true
      },
      "outputs": [],
      "execution_count": null
    },
    {
      "id": "b59574d2",
      "cell_type": "markdown",
      "source": "\n### Complexity & Notes\n- **Time complexity:**\n  - Worst: **O(n²)** (reverse-sorted input → many swaps)\n  - Average: **O(n²)**\n  - Best: **O(n)** *with early-exit optimization* (if no swaps in a pass, stop). Without this optimization, best case is O(n²).\n- **Space complexity:** **O(1)** (in-place).\n- **Pros:** very simple; great for teaching adjacent comparisons and swaps.\n- **Cons:** far too slow for large datasets; rarely used in production.\n",
      "metadata": {}
    },
    {
      "id": "338b17cd",
      "cell_type": "markdown",
      "source": "\n## 2) 🎯 Selection Sort\n\n### Concept\nOn each pass, Selection Sort **selects** the smallest element from the unsorted portion and swaps it into the next position in the sorted portion (at the front). After pass *i*, the first *i+1* elements are in their final positions.\n",
      "metadata": {}
    },
    {
      "id": "aa96a22b",
      "cell_type": "markdown",
      "source": "\n### Step-by-step example\nSort the array: `[29, 10, 14, 37, 13]`\n\n- **Pass 1:** min is 10 → swap with 29 → `[10, 29, 14, 37, 13]`\n- **Pass 2:** min of `[29, 14, 37, 13]` is 13 → swap with 29 → `[10, 13, 14, 37, 29]`\n- **Pass 3:** min of `[14, 37, 29]` is 14 → already in place → no swap → `[10, 13, 14, 37, 29]`\n- **Pass 4:** min of `[37, 29]` is 29 → swap with 37 → `[10, 13, 14, 29, 37]`\n\n**Final:** `[10, 13, 14, 29, 37]`\n",
      "metadata": {}
    },
    {
      "id": "58655ee2-e661-44c5-815f-9caa8c010aad",
      "cell_type": "code",
      "source": "",
      "metadata": {
        "trusted": true
      },
      "outputs": [],
      "execution_count": null
    },
    {
      "id": "fc1ee464",
      "cell_type": "markdown",
      "source": "\n### Complexity & Notes\n- **Time complexity:** Worst = Average = Best = **O(n²)** (it always scans the full unsorted part).\n- **Space complexity:** **O(1)** (in-place).\n- **Pros:** simple; **fewer swaps** than Bubble Sort (at most *n-1* swaps).\n- **Cons:** still O(n²) comparisons; **not stable** (equal elements may change relative order).\n",
      "metadata": {}
    },
    {
      "id": "7881992b",
      "cell_type": "markdown",
      "source": "\n## 3) ✍️ Insertion Sort\n\n### Concept\nInsertion Sort grows a **sorted prefix** at the start of the list. For each new element, it **inserts** it into the correct place inside the sorted part (like sorting playing cards in your hand).\n",
      "metadata": {}
    },
    {
      "id": "f33cc64c",
      "cell_type": "markdown",
      "source": "\n### Step-by-step example\nSort the array: `[12, 11, 13, 5, 6]`\n\n- Insert 11 → `[11, 12, 13, 5, 6]`\n- Insert 13 → `[11, 12, 13, 5, 6]` (already in place)\n- Insert 5  → shift 13, 12, 11 → `[5, 11, 12, 13, 6]`\n- Insert 6  → shift 13, 12, 11 → place after 5 → `[5, 6, 11, 12, 13]`\n\n**Final:** `[5, 6, 11, 12, 13]`\n",
      "metadata": {}
    },
    {
      "id": "bc7b629f-5197-4502-9d2c-d3885e15add9",
      "cell_type": "code",
      "source": "",
      "metadata": {
        "trusted": true
      },
      "outputs": [],
      "execution_count": null
    },
    {
      "id": "da04c783",
      "cell_type": "markdown",
      "source": "\n### Complexity & Notes\n- **Time complexity:**\n  - Worst: **O(n²)** (reverse-sorted → many shifts)\n  - Average: **O(n²)**\n  - Best: **O(n)** (already sorted → one comparison per insertion)\n- **Space complexity:** **O(1)** (in-place).\n- **Pros:** simple, **stable**, great on **small** or **partially sorted** data; works well as the base case inside faster sorts.\n- **Cons:** still quadratic in the worst/average case.\n",
      "metadata": {}
    },
    {
      "id": "86b6a4b4",
      "cell_type": "markdown",
      "source": "\n## 4) 🔀 Merge Sort — **Non‑Recursive (Bottom‑Up)**\n\n### Concept\nBottom‑up Merge Sort avoids recursion by merging **runs** of size 1, then 2, then 4, ... doubling each pass. Each pass merges adjacent runs to produce longer sorted runs until the whole array is sorted.\n\n**High-level passes on** `[38, 27, 43, 3, 9, 82, 10]`:\n- size = 1 → merge pairs of singletons\n- size = 2 → merge pairs of size‑2 runs\n- size = 4 → merge pairs of size‑4 runs\n- ... until size ≥ n\n",
      "metadata": {}
    },
    {
      "id": "5ada278d",
      "cell_type": "markdown",
      "source": "\n### Step-by-step (by run size)\nWith size = 1, we merge adjacent elements:  \n`[38, 27] → [27, 38]`, `[43, 3] → [3, 43]`, `[9, 82] → [9, 82]`, leftover `[10]`  \nArray after pass: `[27, 38, 3, 43, 9, 82, 10]`\n\nWith size = 2, merge `[27, 38]` with `[3, 43]` → `[3, 27, 38, 43]`, and `[9, 82]` with `[10]` → `[9, 10, 82]`  \nArray after pass: `[3, 27, 38, 43, 9, 10, 82]`\n\nWith size = 4, merge `[3, 27, 38, 43]` with `[9, 10, 82]` → `[3, 9, 10, 27, 38, 43, 82]`  \nDone.\n",
      "metadata": {}
    },
    {
      "id": "754fc608-52e5-4c6c-901c-add62ccb11e9",
      "cell_type": "code",
      "source": "",
      "metadata": {
        "trusted": true
      },
      "outputs": [],
      "execution_count": null
    },
    {
      "id": "cf0172ab",
      "cell_type": "markdown",
      "source": "\n### Complexity & Notes\n- **Time complexity:** Worst = Average = Best = **O(n log n)** (each pass does O(n) work; there are ~log₂n passes).\n- **Space complexity:** **O(n)** (needs an auxiliary array for merging).\n- **Pros:** predictable O(n log n), **stable** (if we keep `<=` in merge).\n- **Cons:** extra memory usage; a bit more code than recursive version.\n",
      "metadata": {}
    },
    {
      "id": "962ef4ed",
      "cell_type": "markdown",
      "source": "\n## 5) ⚡ Quick Sort — **Non‑Recursive (Stack‑Based)**\n\n### Concept\nAvoid recursion by maintaining your own **stack of ranges** `(low, high)` that still need sorting. For each range:\n1. Partition around a **pivot** (we’ll use the last element for simplicity).\n2. The pivot lands in its **final position**.\n3. Push the left and right subranges (if they have 2+ elements) onto the stack.\n4. Repeat until the stack is empty.\n",
      "metadata": {}
    },
    {
      "id": "59883efc",
      "cell_type": "markdown",
      "source": "\n### Small worked example\nArray: `[10, 80, 30, 90, 40, 50, 70]`, pivot = last element\n\n- Partition whole range → pivot 70 ends at its correct spot:\n  `[10, 30, 40, 50, 70, 90, 80]` → then swap 90 and 80 during partition → final after partition: `[10, 30, 40, 50, 70, 90, 80]` then final swap with pivot → `[10, 30, 40, 50, 70, 80, 90]`\n- Push left range `[0..3]` (values `[10,30,40,50]`) and right range `[5..6]`.\n- Continue partitioning until all subranges are size 0 or 1.\n",
      "metadata": {}
    },
    {
      "id": "50b4c365-167c-4b24-b2df-d91e6946e87b",
      "cell_type": "code",
      "source": "",
      "metadata": {
        "trusted": true
      },
      "outputs": [],
      "execution_count": null
    },
    {
      "id": "a79a4841",
      "cell_type": "markdown",
      "source": "\n### Complexity & Notes\n- **Time complexity:**\n  - Best / Average: **O(n log n)** (balanced partitions, common in practice especially with randomized or median-of-three pivot selection).\n  - Worst: **O(n²)** (highly unbalanced partitions, e.g., already sorted input with naive last/first pivot).\n- **Space complexity:** **O(log n)** expected for the stack of subranges (much smaller than Merge Sort’s O(n) aux array).\n- **Pros:** fast in practice; in-place; widely used.\n- **Cons:** worst‑case quadratic; **not stable** by default.\n",
      "metadata": {}
    }
  ]
}