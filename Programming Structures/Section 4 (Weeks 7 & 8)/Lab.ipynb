{
 "cells": [
  {
   "cell_type": "markdown",
   "id": "9837e6d3",
   "metadata": {},
   "source": [
    "\n",
    "# Recursion — (CS201)\n",
    "\n",
    "## Learning Outcomes\n",
    "By the end of this module you will be able to:\n",
    "- Explain what recursion is and identify base and recursive cases.\n",
    "- Trace recursive code using the call stack and simple drawings.\n",
    "- Implement classic recursive problems (factorial, sum, power, reverse string, digit count).\n",
    "- Recognize common pitfalls (missing base case, wrong progress, double recursion blow‑ups).\n",
    "- Apply recursion to algorithmic problems (Fibonacci, GCD, quick sort) and nested data.\n",
    "- Compare naive recursion to improved approaches (e.g., memoization) at a high level.\n"
   ]
  },
  {
   "cell_type": "markdown",
   "id": "7c38d97e",
   "metadata": {},
   "source": [
    "\n",
    "---\n",
    "# Foundations of Recursion\n",
    "\n",
    "## 1. What is Recursion?\n",
    "**Recursion** is when a function calls **itself** to solve a smaller version of the same problem. Every recursive function must have:\n",
    "\n",
    "1) **Base case** the simplest input where we can return an answer **directly** (stops recursion).  \n",
    "2) **Recursive case** reduces the input, **moving toward** the base case.\n",
    "\n",
    "> Mental Model: “Divide the big problem into smaller copies of itself, stop at the simplest possible version.”\n"
   ]
  },
  {
   "cell_type": "markdown",
   "id": "421c0f1c",
   "metadata": {},
   "source": [
    "\n",
    "### 1.1 The Call Stack (Why order matters)\n",
    "Each function call gets its own **stack frame** (its variables + return address).  \n",
    "When a recursive function calls itself:\n",
    "- The new call is **pushed** on top of the stack.\n",
    "- When it finishes, it **returns** and pops off the stack.\n",
    "- Execution then resumes in the caller.\n",
    "\n",
    "**Rule of Thumb:** If the recursive case does **not** move closer to the base case, you will get **infinite recursion** (and a `RecursionError`).\n"
   ]
  },
  {
   "cell_type": "code",
   "execution_count": 6,
   "id": "2f2235f9",
   "metadata": {},
   "outputs": [],
   "source": [
    "# Print from n down to 1 using recursion\n",
    "def echo_down(n):\n",
    "    if n==0:\n",
    "        print(\"Done\")\n",
    "        return\n",
    "    print(n)\n",
    "    echo_down(n-1)"
   ]
  },
  {
   "cell_type": "code",
   "execution_count": 8,
   "id": "0b03295a-d73d-4796-a406-7a40dedade08",
   "metadata": {},
   "outputs": [
    {
     "name": "stdout",
     "output_type": "stream",
     "text": [
      "5\n",
      "4\n",
      "3\n",
      "2\n",
      "1\n",
      "Done\n"
     ]
    }
   ],
   "source": [
    "echo_down(5)"
   ]
  },
  {
   "cell_type": "markdown",
   "id": "ced25570",
   "metadata": {},
   "source": [
    "\n",
    "Notice how calls stack like: `echo_down(3)` → `echo_down(2)` → `echo_down(1)` → base.  \n",
    "After hitting base, returns unwind in reverse order.\n"
   ]
  },
  {
   "cell_type": "markdown",
   "id": "453e853e",
   "metadata": {},
   "source": [
    "\n",
    "## 2. Factorial — First Classic\n",
    "**Definition:**  \n",
    "- `0! = 1` (base)  \n",
    "- `n! = n × (n-1)!` for `n ≥ 1` (recursive)\n"
   ]
  },
  {
   "cell_type": "code",
   "execution_count": 20,
   "id": "6cae147f",
   "metadata": {},
   "outputs": [],
   "source": [
    "def factorial(n):\n",
    "    if n==1:\n",
    "        return 1\n",
    "    return factorial(n-1) * n"
   ]
  },
  {
   "cell_type": "markdown",
   "id": "67299560",
   "metadata": {},
   "source": [
    "\n",
    "**Trace (factorial(4))**  \n",
    "`factorial(4) = 4 * factorial(3)`  \n",
    "`factorial(3) = 3 * factorial(2)`  \n",
    "`factorial(2) = 2 * factorial(1)`  \n",
    "`factorial(1) = 1 * factorial(0)`  \n",
    "`factorial(0) = 1` (base)  \n",
    "Then values return and multiply on the way back up.\n"
   ]
  },
  {
   "cell_type": "code",
   "execution_count": 23,
   "id": "a43715c5-a1fe-4ce7-a297-ce4fdb14f5c7",
   "metadata": {},
   "outputs": [
    {
     "data": {
      "text/plain": [
       "120"
      ]
     },
     "execution_count": 23,
     "metadata": {},
     "output_type": "execute_result"
    }
   ],
   "source": [
    "factorial(5)"
   ]
  },
  {
   "cell_type": "markdown",
   "id": "e2ccdbf9",
   "metadata": {},
   "source": [
    "\n",
    "## 3. Sum of Natural Numbers\n"
   ]
  },
  {
   "cell_type": "code",
   "execution_count": 25,
   "id": "3e9f503a-c967-4933-b592-51d41424dd40",
   "metadata": {},
   "outputs": [],
   "source": [
    "# Return 1+2+...+n  (n>=0)\n",
    "def sum_n(n):\n",
    "    if n==0:\n",
    "        return 0\n",
    "    return sum_n(n-1)+n"
   ]
  },
  {
   "cell_type": "code",
   "execution_count": 27,
   "id": "2f387b8a-4da1-4b5e-9e1b-cf22e60ac018",
   "metadata": {},
   "outputs": [
    {
     "data": {
      "text/plain": [
       "10"
      ]
     },
     "execution_count": 27,
     "metadata": {},
     "output_type": "execute_result"
    }
   ],
   "source": [
    "sum_n(4)"
   ]
  },
  {
   "cell_type": "markdown",
   "id": "0a670971",
   "metadata": {},
   "source": [
    "\n",
    "## 4. Power (a^b)\n",
    "Simple recursion (linear in b):  \n",
    "- base: `a^0 = 1`  \n",
    "- step: `a^b = a * a^(b-1)` for `b>0`\n"
   ]
  },
  {
   "cell_type": "code",
   "execution_count": 35,
   "id": "4757dc91",
   "metadata": {},
   "outputs": [],
   "source": [
    "def power(a,b):\n",
    "    if b==1:\n",
    "        return a\n",
    "    return power(a,b-1)*a"
   ]
  },
  {
   "cell_type": "code",
   "execution_count": 37,
   "id": "0e08918e-db2f-4044-86c6-afbd1af2de0f",
   "metadata": {},
   "outputs": [
    {
     "data": {
      "text/plain": [
       "16"
      ]
     },
     "execution_count": 37,
     "metadata": {},
     "output_type": "execute_result"
    }
   ],
   "source": [
    "power(2,4)"
   ]
  },
  {
   "cell_type": "markdown",
   "id": "1e6db29e",
   "metadata": {},
   "source": [
    "\n",
    "## 5. Reverse a String\n",
    "Idea: move the first character to the **end** by reversing the rest.  \n",
    "- base: empty string or length 1 → return s  \n",
    "- step: `reverse(s) = reverse(s[1:]) + s[0]`\n"
   ]
  },
  {
   "cell_type": "code",
   "execution_count": 39,
   "id": "78065c26-6876-477c-8d32-e5a60cfb232e",
   "metadata": {},
   "outputs": [
    {
     "data": {
      "text/plain": [
       "'A'"
      ]
     },
     "execution_count": 39,
     "metadata": {},
     "output_type": "execute_result"
    }
   ],
   "source": [
    "name = 'Ali'\n",
    "name[0]"
   ]
  },
  {
   "cell_type": "code",
   "execution_count": 41,
   "id": "be795de7-8e59-4318-ba8d-90ee79174e7b",
   "metadata": {},
   "outputs": [
    {
     "data": {
      "text/plain": [
       "'l'"
      ]
     },
     "execution_count": 41,
     "metadata": {},
     "output_type": "execute_result"
    }
   ],
   "source": [
    "name[1]"
   ]
  },
  {
   "cell_type": "code",
   "execution_count": 61,
   "id": "f380556b-be1f-4e4b-8c6c-38d6cc6b53b7",
   "metadata": {},
   "outputs": [
    {
     "data": {
      "text/plain": [
       "'li'"
      ]
     },
     "execution_count": 61,
     "metadata": {},
     "output_type": "execute_result"
    }
   ],
   "source": [
    "name[1:]"
   ]
  },
  {
   "cell_type": "code",
   "execution_count": 63,
   "id": "1a0c6bf8-4135-49d2-a2a9-e1456c168f2c",
   "metadata": {},
   "outputs": [
    {
     "data": {
      "text/plain": [
       "3"
      ]
     },
     "execution_count": 63,
     "metadata": {},
     "output_type": "execute_result"
    }
   ],
   "source": [
    "len(name)"
   ]
  },
  {
   "cell_type": "code",
   "execution_count": 65,
   "id": "10df850b",
   "metadata": {},
   "outputs": [],
   "source": [
    "def reverse_str(s):\n",
    "    if len(s)<=1:\n",
    "        return s\n",
    "    return reverse_str(s[1:]) + s[0]"
   ]
  },
  {
   "cell_type": "code",
   "execution_count": 67,
   "id": "1034c45b-a1b0-422a-be31-7b9d7b129174",
   "metadata": {},
   "outputs": [
    {
     "data": {
      "text/plain": [
       "'ilA'"
      ]
     },
     "execution_count": 67,
     "metadata": {},
     "output_type": "execute_result"
    }
   ],
   "source": [
    "reverse_str(name)"
   ]
  },
  {
   "cell_type": "markdown",
   "id": "4277ea02",
   "metadata": {},
   "source": [
    "\n",
    "## 6. Count Digits (non-negative int)\n",
    "- base: `n < 10` → 1 digit  \n",
    "- step: ``\n"
   ]
  },
  {
   "cell_type": "code",
   "execution_count": null,
   "id": "d3b22f71",
   "metadata": {},
   "outputs": [],
   "source": [
    "def count_digits(n):\n",
    "   return"
   ]
  },
  {
   "cell_type": "markdown",
   "id": "069c8b3d",
   "metadata": {},
   "source": [
    "\n",
    "## 7. Common Pitfalls & Debugging Tips\n",
    "- **Missing base case** → infinite recursion.  \n",
    "- **Wrong progress** (e.g., `n+1` instead of `n-1`) → never reaches base.  \n",
    "- **Double recursion explosion** (Fibonacci) → exponential time.\n",
    "\n",
    "**Debugging tips:**  \n",
    "- Add **print** statements that show parameters at entry/exit.  \n",
    "- Use small inputs first.  \n",
    "- Draw a **small recursion tree** by hand.\n"
   ]
  },
  {
   "cell_type": "markdown",
   "id": "ae41846a",
   "metadata": {},
   "source": [
    "\n",
    "### Exercises\n",
    "1. Write `power(a, b)` recursively (as above) and test for several values.  \n",
    "2. Write `reverse_str(s)` recursively (as above) and test on at least 3 strings.  \n",
    "3. Write `count_digits(n)` recursively and test on 1‑digit, 3‑digit, 6‑digit numbers.  \n",
    "4. Write `sum_n(n)` recursively and prove by example that `sum_n(10) = 55`.\n",
    "\n",
    "> Use the empty cells below for your answers.\n"
   ]
  },
  {
   "cell_type": "code",
   "execution_count": null,
   "id": "378ef5f5",
   "metadata": {},
   "outputs": [],
   "source": [
    "# Exercise 1 — your code here\n"
   ]
  },
  {
   "cell_type": "code",
   "execution_count": null,
   "id": "5c416d01",
   "metadata": {},
   "outputs": [],
   "source": [
    "# Exercise 2 — your code here\n"
   ]
  },
  {
   "cell_type": "code",
   "execution_count": null,
   "id": "8e92cfb9",
   "metadata": {},
   "outputs": [],
   "source": [
    "# Exercise 3 — your code here\n"
   ]
  },
  {
   "cell_type": "code",
   "execution_count": null,
   "id": "7ed65387",
   "metadata": {},
   "outputs": [],
   "source": [
    "# Exercise 4 — your code here\n"
   ]
  },
  {
   "cell_type": "markdown",
   "id": "be997834",
   "metadata": {},
   "source": [
    "\n",
    "---\n",
    "# Applied Recursion & Patterns\n",
    "\n",
    "## 8. Fibonacci (Naive Recursion)\n",
    "Definition:\n",
    "- `F(0) = 0`, `F(1) = 1`\n",
    "- `F(n) = F(n-1) + F(n-2)` for `n ≥ 2`\n",
    "\n",
    "This has **two** recursive calls → **exponential** time.\n"
   ]
  },
  {
   "cell_type": "code",
   "execution_count": 104,
   "id": "bec41350-b950-481b-8237-09838011a3f0",
   "metadata": {},
   "outputs": [],
   "source": [
    "def fib_naive(n):\n",
    "    if n<=1:\n",
    "        return n\n",
    "    return fib_naive(n-2) + fib_naive(n-1)"
   ]
  },
  {
   "cell_type": "code",
   "execution_count": 169,
   "id": "13587850-cd5d-46f2-b0d2-5e96f91e6212",
   "metadata": {},
   "outputs": [
    {
     "data": {
      "text/plain": [
       "267914296"
      ]
     },
     "execution_count": 169,
     "metadata": {},
     "output_type": "execute_result"
    }
   ],
   "source": [
    "fib_naive(42)"
   ]
  },
  {
   "cell_type": "markdown",
   "id": "82d7d1b1",
   "metadata": {},
   "source": [
    "\n",
    "### 8.1 (Optional) Memoization Preview (Performance)\n",
    "We can cache results to avoid recomputing the same subproblems.\n"
   ]
  },
  {
   "cell_type": "code",
   "execution_count": 173,
   "id": "972797c9",
   "metadata": {},
   "outputs": [],
   "source": [
    "def fib_memo(n,cache = None):\n",
    "    if cache is None:\n",
    "        cache = {}\n",
    "    if n in cache:\n",
    "        return cache[n]\n",
    "    if n<=1:\n",
    "        cache[n]=n\n",
    "    else:\n",
    "        cache[n]=fib_memo(n-2, cache) + fib_memo(n-1,cache)\n",
    "        #print(cache[n])\n",
    "    return cache[n]"
   ]
  },
  {
   "cell_type": "code",
   "execution_count": 175,
   "id": "046e6d90-a748-4eef-8f51-9d14531e1984",
   "metadata": {},
   "outputs": [
    {
     "data": {
      "text/plain": [
       "267914296"
      ]
     },
     "execution_count": 175,
     "metadata": {},
     "output_type": "execute_result"
    }
   ],
   "source": [
    "fib_memo(42)"
   ]
  },
  {
   "cell_type": "markdown",
   "id": "4316a072",
   "metadata": {},
   "source": [
    "\n",
    "## 9. Greatest Common Divisor (GCD) — Euclidean Algorithm\n",
    "`gcd(a, b) = gcd(b, a % b)` with base `gcd(a, 0) = a`.\n",
    "This is a classic **tail recursion** pattern.\n"
   ]
  },
  {
   "cell_type": "code",
   "execution_count": 185,
   "id": "603d8e51",
   "metadata": {},
   "outputs": [],
   "source": [
    "\n",
    "def gcd(a, b):\n",
    "    if b==0:\n",
    "        return a\n",
    "    return gcd(b,a%b)"
   ]
  },
  {
   "cell_type": "code",
   "execution_count": 187,
   "id": "4454e377-a1d4-46c6-9cb0-d567551310c7",
   "metadata": {},
   "outputs": [
    {
     "data": {
      "text/plain": [
       "6"
      ]
     },
     "execution_count": 187,
     "metadata": {},
     "output_type": "execute_result"
    }
   ],
   "source": [
    "gcd(48,18)"
   ]
  },
  {
   "cell_type": "markdown",
   "id": "4c83c595",
   "metadata": {},
   "source": [
    "\n",
    "## 10. Recursive Quick Sort (with Lomuto Partition)\n",
    "Idea: Pick a pivot, partition the array so that all elements <= pivot go left and the rest go right, put the pivot in its final position, then recursively quick-sort the left and right parts.\n",
    "\n",
    "We’ll use our partition function(pivot = last element).\n"
   ]
  },
  {
   "cell_type": "code",
   "execution_count": 195,
   "id": "6bbe40d2",
   "metadata": {},
   "outputs": [],
   "source": [
    "def partition(arr, low, high):\n",
    "    pivot = arr[high]\n",
    "    i = low - 1\n",
    "    for j in range(low, high):\n",
    "        if arr[j] <= pivot:\n",
    "            i += 1\n",
    "            arr[i], arr[j] = arr[j], arr[i]\n",
    "    arr[i + 1], arr[high] = arr[high], arr[i + 1]\n",
    "    return i + 1"
   ]
  },
  {
   "cell_type": "code",
   "execution_count": 209,
   "id": "c5997206-7bb5-4cbc-9eb9-5e593a39a453",
   "metadata": {},
   "outputs": [],
   "source": [
    "def quick_sort(arr, low, high):\n",
    "    if low < high:\n",
    "        pivot = partition(arr, low, high)\n",
    "        quick_sort(arr,low,pivot-1)\n",
    "        quick_sort(arr,pivot+1,high)"
   ]
  },
  {
   "cell_type": "code",
   "execution_count": 213,
   "id": "aec279cb-586a-4045-9c19-989e8d557a36",
   "metadata": {},
   "outputs": [
    {
     "data": {
      "text/plain": [
       "[0, 2, 3, 5, 10, 14, 17, 22, 45, 89, 99]"
      ]
     },
     "execution_count": 213,
     "metadata": {},
     "output_type": "execute_result"
    }
   ],
   "source": [
    "arr = [10,3,5,17,45,2,0,99,14,22,89]\n",
    "quick_sort(arr,0,len(arr)-1)\n",
    "arr"
   ]
  },
  {
   "cell_type": "markdown",
   "id": "24cf543d",
   "metadata": {},
   "source": [
    "\n",
    "## 11. (Concept) Recursive Merge Sort vs. Iterative\n",
    "- **Recursive view:** split the array into halves until size 1 (base), then merge back up.  \n",
    "- **Iterative view (what you used before):** merge adjacent blocks with sizes 1, 2, 4, 8, …\n",
    "\n",
    "Key insight: both achieve **O(n log n)** time, different **control flow**.\n"
   ]
  },
  {
   "cell_type": "markdown",
   "id": "5f446cf3",
   "metadata": {},
   "source": [
    "\n",
    "---\n",
    "## Study Guide & Tips\n",
    "- Always identify **base** and **recursive** cases **before** coding.  \n",
    "- Ensure each recursive call moves **closer** to the base case.  \n",
    "- Use prints or a small **recursion tree** to debug.  \n",
    "- Prefer recursion when the problem is naturally **self-similar** (trees, divide‑and‑conquer).\n"
   ]
  },
  {
   "cell_type": "code",
   "execution_count": null,
   "id": "cbb02b0a-e5db-4d46-84dc-faccca9ce5cb",
   "metadata": {},
   "outputs": [],
   "source": []
  }
 ],
 "metadata": {
  "kernelspec": {
   "display_name": "Python [conda env:base] *",
   "language": "python",
   "name": "conda-base-py"
  },
  "language_info": {
   "codemirror_mode": {
    "name": "ipython",
    "version": 3
   },
   "file_extension": ".py",
   "mimetype": "text/x-python",
   "name": "python",
   "nbconvert_exporter": "python",
   "pygments_lexer": "ipython3",
   "version": "3.12.7"
  }
 },
 "nbformat": 4,
 "nbformat_minor": 5
}
