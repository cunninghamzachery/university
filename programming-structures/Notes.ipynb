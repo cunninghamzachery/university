{
 "cells": [
  {
   "cell_type": "markdown",
   "id": "f3d44d20",
   "metadata": {},
   "source": [
    "# **Section 1** (Weeks 1 & 2)\n",
    "---"
   ]
  },
  {
   "cell_type": "markdown",
   "id": "92478934",
   "metadata": {},
   "source": [
    "#### Variables"
   ]
  },
  {
   "cell_type": "markdown",
   "id": "364292ba",
   "metadata": {},
   "source": [
    "#### Data Types"
   ]
  },
  {
   "cell_type": "code",
   "execution_count": null,
   "id": "7112bf60",
   "metadata": {},
   "outputs": [],
   "source": [
    "mylist = []\n",
    "mytuple = ()"
   ]
  },
  {
   "cell_type": "markdown",
   "id": "61688016",
   "metadata": {},
   "source": [
    "#### Operators"
   ]
  },
  {
   "cell_type": "markdown",
   "id": "3430aaea",
   "metadata": {},
   "source": [
    "#### Conditional Logic"
   ]
  },
  {
   "cell_type": "markdown",
   "id": "522aad1d",
   "metadata": {},
   "source": [
    "# **Section 2** (Week 3)\n",
    "---"
   ]
  },
  {
   "cell_type": "markdown",
   "id": "aab90b2b",
   "metadata": {},
   "source": [
    "#### Sets"
   ]
  },
  {
   "cell_type": "markdown",
   "id": "ee28afde",
   "metadata": {},
   "source": [
    "#### Dictionaries"
   ]
  },
  {
   "cell_type": "markdown",
   "id": "b17047cd",
   "metadata": {},
   "source": [
    "#### Stacks"
   ]
  },
  {
   "cell_type": "markdown",
   "id": "7c059319",
   "metadata": {},
   "source": [
    "#### Queues"
   ]
  },
  {
   "cell_type": "markdown",
   "id": "7b1208a3",
   "metadata": {},
   "source": [
    "#### Deques"
   ]
  },
  {
   "cell_type": "markdown",
   "id": "e21647ee",
   "metadata": {},
   "source": [
    "#### Linked Lists"
   ]
  },
  {
   "cell_type": "markdown",
   "id": "6fada2b2",
   "metadata": {},
   "source": [
    "# **Section 3** (Weeks 4, 5, & 6)\n",
    "---"
   ]
  },
  {
   "cell_type": "markdown",
   "id": "c23690ce",
   "metadata": {},
   "source": [
    "#### Bubble Sort"
   ]
  },
  {
   "cell_type": "markdown",
   "id": "f8dd3280",
   "metadata": {},
   "source": [
    "#### Selection Sort"
   ]
  },
  {
   "cell_type": "markdown",
   "id": "3d6f6f1a",
   "metadata": {},
   "source": [
    "#### Insertion Sort"
   ]
  },
  {
   "cell_type": "markdown",
   "id": "cda70e14",
   "metadata": {},
   "source": [
    "#### Merge Sort"
   ]
  },
  {
   "cell_type": "markdown",
   "id": "d1e6715f",
   "metadata": {},
   "source": [
    "#### Quick Sort"
   ]
  },
  {
   "cell_type": "markdown",
   "id": "4dbade9d",
   "metadata": {},
   "source": [
    "# **Section 4** (Weeks 7 & 8)\n",
    "---"
   ]
  },
  {
   "cell_type": "markdown",
   "id": "63060dc4",
   "metadata": {},
   "source": [
    "#### Recursion"
   ]
  },
  {
   "cell_type": "markdown",
   "id": "49a4a929",
   "metadata": {},
   "source": [
    "#### The Call Stack"
   ]
  },
  {
   "cell_type": "markdown",
   "id": "39e8bbc6",
   "metadata": {},
   "source": [
    "#### Factorial"
   ]
  },
  {
   "cell_type": "markdown",
   "id": "a812f9f7",
   "metadata": {},
   "source": [
    "#### Sum of Natural Numbers"
   ]
  },
  {
   "cell_type": "markdown",
   "id": "7959df01",
   "metadata": {},
   "source": [
    "#### Power (a^b)"
   ]
  },
  {
   "cell_type": "markdown",
   "id": "56f46593",
   "metadata": {},
   "source": [
    "#### Reverse a String"
   ]
  },
  {
   "cell_type": "markdown",
   "id": "0c1a6649",
   "metadata": {},
   "source": [
    "#### Count Digits (non-negative int)"
   ]
  },
  {
   "cell_type": "markdown",
   "id": "3e22df57",
   "metadata": {},
   "source": [
    "#### Common Pitfalls & Debugging Tips"
   ]
  },
  {
   "cell_type": "markdown",
   "id": "d86476ee",
   "metadata": {},
   "source": [
    "#### Fibonacci (Naive Recursion)"
   ]
  },
  {
   "cell_type": "markdown",
   "id": "d305c823",
   "metadata": {},
   "source": [
    "#### Memoization Preview (Performance)"
   ]
  },
  {
   "cell_type": "markdown",
   "id": "7698fb06",
   "metadata": {},
   "source": [
    "#### Euclidean Algorithm"
   ]
  },
  {
   "cell_type": "markdown",
   "id": "8a491c4e",
   "metadata": {},
   "source": [
    "#### Recursive Quick Sort (with Lomuto Partition)"
   ]
  },
  {
   "cell_type": "markdown",
   "id": "18af6b1b",
   "metadata": {},
   "source": [
    "#### Recursive vs Iterative Merge Sort"
   ]
  }
 ],
 "metadata": {
  "kernelspec": {
   "display_name": "Python 3",
   "language": "python",
   "name": "python3"
  },
  "language_info": {
   "codemirror_mode": {
    "name": "ipython",
    "version": 3
   },
   "file_extension": ".py",
   "mimetype": "text/x-python",
   "name": "python",
   "nbconvert_exporter": "python",
   "pygments_lexer": "ipython3",
   "version": "3.12.1"
  }
 },
 "nbformat": 4,
 "nbformat_minor": 5
}
