{
 "cells": [
  {
   "cell_type": "markdown",
   "id": "fdcc4543",
   "metadata": {},
   "source": [
    "# Lab2: Sets, Dictionaries, Stacks, and Queues\n",
    "\n",
    "This lab gives you hands‑on practice with:\n",
    "- **Sets** \n",
    "- **Dictionaries** \n",
    "- **Stacks using lists** \n",
    "- **Queues using lists** \n",
    "\n",
    "Follow the instructions in each task. Write your code where indicated.\n"
   ]
  },
  {
   "cell_type": "markdown",
   "id": "2f7e4a2c",
   "metadata": {},
   "source": [
    "## Rules\n",
    "- You may use **only built‑in Python data structures** (`list`, `set`, `dict`, `tuple`) and basic control flow.\n",
    "- **Do not** import external libraries.\n",
    "- Run the quick tests after each task to check your progress.\n"
   ]
  },
  {
   "cell_type": "markdown",
   "id": "b37ae91d",
   "metadata": {},
   "source": [
    "## Task 1 — Set Operations\n",
    "Write a function `set_ops(a, b)` where `a` and `b` are **sets of integers**.\n",
    "\n",
    "Return a **tuple** of three sets: `(union_set, intersection_set, difference_set)` where:\n",
    "- `union_set = a ∪ b`\n",
    "- `intersection_set = a ∩ b`\n",
    "- `difference_set = a − b` (elements in `a` but not in `b`)"
   ]
  },
  {
   "cell_type": "code",
   "execution_count": null,
   "id": "bbf41f95-73d3-40f5-9ff7-1f1e45aaf2cf",
   "metadata": {},
   "outputs": [
    {
     "name": "stdout",
     "output_type": "stream",
     "text": [
      "({1, 2, 3, 4, 5, 6, 7, 8, 9, 10, 11, 13}, {8, 1, 10, 4}, {2, 3, 5, 6, 7, 9})\n"
     ]
    }
   ],
   "source": [
    "a = {1, 2, 3, 4, 5, 6, 7, 8, 9, 10}\n",
    "b = {1, 4, 8, 10, 11, 13}\n",
    "\n",
    "\n",
    "def set_ops(a,b):\n",
    "    union = a | b\n",
    "    intersection = a & b\n",
    "    difference = a - b\n",
    "    return union, intersection, difference\n",
    "\n",
    "print(set_ops(a,b))\n",
    "\n",
    "\n"
   ]
  },
  {
   "cell_type": "markdown",
   "id": "e7421669",
   "metadata": {},
   "source": [
    "## Task 2 — Remove Duplicates with a Set\n",
    "Write a function `unique_numbers(nums)` that takes a **list of integers** (possibly with duplicates) and returns a **sorted list of unique integers**."
   ]
  },
  {
   "cell_type": "code",
   "execution_count": 30,
   "id": "24684f4b-88cd-4a72-a760-e7506fd9a467",
   "metadata": {},
   "outputs": [
    {
     "name": "stdout",
     "output_type": "stream",
     "text": [
      "{0, 1, 2, 3, 4, 5, 6, 7, 8, 9}\n"
     ]
    }
   ],
   "source": [
    "nums = [1, 2, 3, 4, 5, 6, 1, 2, 3, 4, 8, 9, 7, 0]\n",
    "\n",
    "def unique_numbers(nums):\n",
    "    return set(sorted(nums))\n",
    "\n",
    "print(unique_numbers(nums))"
   ]
  },
  {
   "cell_type": "markdown",
   "id": "53cfcdc0",
   "metadata": {},
   "source": [
    "## Task 3 — Student Scores with a Dictionary\n",
    "Create a function `student_stats(scores)` where `scores` is a **dictionary** mapping student names to numeric scores.\n",
    "\n",
    "Return a tuple `(avg, top_student)` where:\n",
    "- `avg` is the average score (float)\n",
    "- `top_student` is the name of the student with the highest score (if tie, return any one)"
   ]
  },
  {
   "cell_type": "code",
   "execution_count": null,
   "id": "023fad3b-f671-4834-8df2-fc4a803d8e60",
   "metadata": {},
   "outputs": [
    {
     "name": "stdout",
     "output_type": "stream",
     "text": [
      "['Bill', 'Jane', 'John', 'Mark', 'Shawn']\n"
     ]
    },
    {
     "ename": "AttributeError",
     "evalue": "'dict' object has no attribute 'value'",
     "output_type": "error",
     "traceback": [
      "\u001b[31m---------------------------------------------------------------------------\u001b[39m",
      "\u001b[31mAttributeError\u001b[39m                            Traceback (most recent call last)",
      "\u001b[36mCell\u001b[39m\u001b[36m \u001b[39m\u001b[32mIn[35]\u001b[39m\u001b[32m, line 14\u001b[39m\n\u001b[32m     10\u001b[39m     \u001b[38;5;28mprint\u001b[39m(\u001b[38;5;28msorted\u001b[39m(scores.value))\n\u001b[32m     12\u001b[39m     \u001b[38;5;28;01mreturn\u001b[39;00m\n\u001b[32m---> \u001b[39m\u001b[32m14\u001b[39m \u001b[43mstudent_stats\u001b[49m\u001b[43m(\u001b[49m\u001b[43mscores\u001b[49m\u001b[43m)\u001b[49m\n",
      "\u001b[36mCell\u001b[39m\u001b[36m \u001b[39m\u001b[32mIn[35]\u001b[39m\u001b[32m, line 10\u001b[39m, in \u001b[36mstudent_stats\u001b[39m\u001b[34m(scores)\u001b[39m\n\u001b[32m      7\u001b[39m \u001b[38;5;28;01mdef\u001b[39;00m\u001b[38;5;250m \u001b[39m\u001b[34mstudent_stats\u001b[39m(scores):\n\u001b[32m      8\u001b[39m     \u001b[38;5;28mprint\u001b[39m(\u001b[38;5;28msorted\u001b[39m(scores))\n\u001b[32m---> \u001b[39m\u001b[32m10\u001b[39m     \u001b[38;5;28mprint\u001b[39m(\u001b[38;5;28msorted\u001b[39m(\u001b[43mscores\u001b[49m\u001b[43m.\u001b[49m\u001b[43mvalue\u001b[49m))\n\u001b[32m     12\u001b[39m     \u001b[38;5;28;01mreturn\u001b[39;00m\n",
      "\u001b[31mAttributeError\u001b[39m: 'dict' object has no attribute 'value'"
     ]
    }
   ],
   "source": [
    "scores = {\"Bill\"  : 63.42, \n",
    "          \"John\"  : 81.20, \n",
    "          \"Shawn\" : 19.01, \n",
    "          \"Mark\"  : 54.98, \n",
    "          \"Jane\"  : 72.34}\n",
    "\n",
    "def student_stats(scores):\n",
    "    print(sorted(scores))\n",
    "    \n",
    "    \n",
    "    return\n",
    "\n",
    "student_stats(scores)"
   ]
  },
  {
   "cell_type": "markdown",
   "id": "32e72868",
   "metadata": {},
   "source": [
    "## Task 4 — Balanced Parentheses (Stack)\n",
    "Use a **list as a stack** to implement `is_balanced(s)` which returns `True` if parentheses in `s` are balanced and `False` otherwise.\n",
    "Consider only the characters `(` and `)`; ignore others."
   ]
  },
  {
   "cell_type": "code",
   "execution_count": null,
   "id": "765de85e-a96b-4259-a6ac-1e97914357d0",
   "metadata": {},
   "outputs": [],
   "source": []
  },
  {
   "cell_type": "markdown",
   "id": "821a4594",
   "metadata": {},
   "source": [
    "## Task 5 — Undo Simulation (Stack)\n",
    "Implement `apply_actions(actions)` using a **stack (list)**. `actions` is a list of strings representing user actions in a text editor.\n",
    "Two kinds of actions:\n",
    "- Normal text like `'type:hello'` means append `'hello'` to the document\n",
    "- `'undo'` means remove the **last** typed text\n",
    "\n",
    "Return the final document **string**.\n",
    "Example: `['type:hi', 'type: there', 'undo', 'type:!']` → `'hi!'`"
   ]
  },
  {
   "cell_type": "code",
   "execution_count": null,
   "id": "5e6f38b9-1c12-42a8-afb1-7e283108a743",
   "metadata": {},
   "outputs": [],
   "source": []
  },
  {
   "cell_type": "markdown",
   "id": "9b573431",
   "metadata": {},
   "source": [
    "## Task 6 — Bank Queue Simulation (Queue)\n",
    "Using a **list as a queue**, implement `serve_bank_queue(customers)` where `customers` is a list of `(name, service)` tuples.\n",
    "Return a list of strings in the order served: e.g., `\"Serving Alice for Deposit\"`."
   ]
  },
  {
   "cell_type": "code",
   "execution_count": null,
   "id": "266140ca-a866-421b-9784-9440328cdfe4",
   "metadata": {},
   "outputs": [],
   "source": []
  }
 ],
 "metadata": {
  "kernelspec": {
   "display_name": "Python 3",
   "language": "python",
   "name": "python3"
  },
  "language_info": {
   "codemirror_mode": {
    "name": "ipython",
    "version": 3
   },
   "file_extension": ".py",
   "mimetype": "text/x-python",
   "name": "python",
   "nbconvert_exporter": "python",
   "pygments_lexer": "ipython3",
   "version": "3.12.1"
  }
 },
 "nbformat": 4,
 "nbformat_minor": 5
}
