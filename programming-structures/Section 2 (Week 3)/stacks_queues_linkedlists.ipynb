{
 "cells": [
  {
   "cell_type": "markdown",
   "id": "546a53e0",
   "metadata": {},
   "source": [
    "# Stacks, Queues, and (Gentle) Linked Lists\n",
    "\n",
    "**Course context:** After Introduction to Python and core data structures (list, set, tuple, dict).  \n",
    "**Today:** Practicing *Stacks* (LIFO), *Queues* (FIFO), and a gentle conceptual intro to *Linked Lists* (without OOP).\n",
    "\n",
    "**What you'll learn**\n",
    "- Understand the LIFO (stack) and FIFO (queue) access patterns\n",
    "- Implement a stack with Python lists; write small, clear functions\n",
    "- Implement a queue with Python lists; understand the performance caveat of `pop(0)`\n",
    "- Use a conceptual (non-OOP) linked-list simulation with tuples\n",
    "- Apply these structures to small, practical tasks\n"
   ]
  },
  {
   "cell_type": "markdown",
   "id": "35a48dd3",
   "metadata": {},
   "source": [
    "---\n",
    "## 0) Setup (No external libraries needed)\n",
    "We will use only **built-in** Python data structures in this notebook. For queues, we first use lists (learning goal), then briefly show why `collections.deque` is preferred in real applications.\n"
   ]
  },
  {
   "cell_type": "markdown",
   "id": "29e058aa",
   "metadata": {},
   "source": [
    "---\n",
    "## 1) Stacks (LIFO)\n",
    "\n",
    "A **stack** is *Last-In, First-Out*. You add (\"push\") to the top, and remove (\"pop\") from the top.\n",
    "\n",
    "**Core operations**\n",
    "- `push(x)` → put `x` on top\n",
    "- `pop()` → remove & return top item\n",
    "- `peek()` → read the top item without removing it\n",
    "- `is_empty()` → check if the stack is empty\n",
    "\n",
    "We'll implement a stack with a Python list:\n",
    "- `append(x)` is our **push**\n",
    "- `pop()` (without an index) is our **pop**\n",
    "- `stack[-1]` is our **peek**\n"
   ]
  },
  {
   "cell_type": "code",
   "execution_count": 4,
   "id": "a7a32cbc",
   "metadata": {},
   "outputs": [
    {
     "data": {
      "text/plain": [
       "1"
      ]
     },
     "execution_count": 4,
     "metadata": {},
     "output_type": "execute_result"
    }
   ],
   "source": [
    "# Basic stack operations with a Python list\n",
    "stack = [1]\n",
    "stack.append(5)\n",
    "stack.pop()\n",
    "stack\n",
    "stack[-1]"
   ]
  },
  {
   "cell_type": "code",
   "execution_count": 2,
   "id": "c84677b8",
   "metadata": {},
   "outputs": [
    {
     "name": "stdout",
     "output_type": "stream",
     "text": [
      "Nothing to peek, Stack2 is empty\n"
     ]
    }
   ],
   "source": [
    "stack2 = []\n",
    "if stack2:\n",
    "    print(\"Top item (peek): \"), stack2[-1]\n",
    "else:\n",
    "    print(\"Nothing to peek, Stack2 is empty\")"
   ]
  },
  {
   "cell_type": "markdown",
   "id": "d4f492be",
   "metadata": {},
   "source": [
    "### Simple Exercise: Reverse a word using a stack\n",
    "**Goal:** Write a function `reverse_word(word)` that uses a list as a stack to reverse the characters.\n",
    "\n",
    "**Example:** `reverse_word(\"hello\")` → `\"olleh\"`\n"
   ]
  },
  {
   "cell_type": "code",
   "execution_count": 9,
   "id": "f0359776",
   "metadata": {},
   "outputs": [
    {
     "data": {
      "text/plain": [
       "'olleh'"
      ]
     },
     "execution_count": 9,
     "metadata": {},
     "output_type": "execute_result"
    }
   ],
   "source": [
    "\n",
    "def reverse_word(word):\n",
    "    stack = []\n",
    "    for letter in word:\n",
    "        stack.append(letter)\n",
    "    result = \"\"\n",
    "    while stack:\n",
    "        result += stack.pop()\n",
    "    return result\n",
    "        \n",
    "reverse_word(\"hello\")        \n",
    "    \n",
    "    "
   ]
  },
  {
   "cell_type": "code",
   "execution_count": 31,
   "id": "e6b68fd5",
   "metadata": {},
   "outputs": [
    {
     "data": {
      "text/plain": [
       "['test', 'a', 'is', 'this']"
      ]
     },
     "execution_count": 31,
     "metadata": {},
     "output_type": "execute_result"
    }
   ],
   "source": [
    "def reverse_sentence(sentence):\n",
    "    words = sentence.split()\n",
    "    stack = []\n",
    "    result = []\n",
    "    for word in words:\n",
    "        stack.append(word)\n",
    "        \n",
    "    while stack:\n",
    "        result.append(stack.pop())     \n",
    "\n",
    "    return result\n",
    "        \n",
    "reverse_sentence(\"this is a test\")        \n",
    "    \n",
    "    "
   ]
  },
  {
   "cell_type": "markdown",
   "id": "b3ad6bde",
   "metadata": {},
   "source": [
    "---\n",
    "## 2) Queues (FIFO)\n",
    "\n",
    "A **queue** is *First-In, First-Out*. Think of a line at a store: the first person in is the first person out.\n",
    "\n",
    "**Core operations**\n",
    "- `enqueue(x)` → add to the back\n",
    "- `dequeue()` → remove & return from the front\n",
    "- `peek()` → look at the front\n",
    "- `is_empty()`\n",
    "\n",
    "We'll start with a Python **list** for learning purposes:\n",
    "- `append(x)` is our enqueue\n",
    "- `pop(0)` is our dequeue (this is *O(n)* and slow for big lists)\n",
    "\n",
    "> In real programs, we usually prefer `collections.deque` for O(1) pops from the left. We'll show a quick demo afterward.\n"
   ]
  },
  {
   "cell_type": "code",
   "execution_count": null,
   "id": "a4849fe0",
   "metadata": {},
   "outputs": [
    {
     "data": {
      "text/plain": [
       "12"
      ]
     },
     "execution_count": 27,
     "metadata": {},
     "output_type": "execute_result"
    }
   ],
   "source": [
    "# Queue using a Python list\n",
    "queue = [12, 10, 20, -5, 6]\n",
    "queue\n",
    "queue.pop(-1)\n",
    "queue[0] #this is peek"
   ]
  },
  {
   "cell_type": "code",
   "execution_count": 30,
   "id": "0ec50960",
   "metadata": {},
   "outputs": [
    {
     "name": "stdout",
     "output_type": "stream",
     "text": [
      "12\n"
     ]
    }
   ],
   "source": [
    "if queue:\n",
    "    print(queue[0])\n",
    "else:\n",
    "    print(\"empty\")"
   ]
  },
  {
   "cell_type": "code",
   "execution_count": null,
   "id": "493c54c0",
   "metadata": {},
   "outputs": [],
   "source": [
    "# Quick demo: deque (recommended in practice)\n",
    "from collections import deque\n"
   ]
  },
  {
   "cell_type": "markdown",
   "id": "40a4194a",
   "metadata": {},
   "source": [
    "### Exercise: Simple Printer Queue\n",
    "Simulate printing a series of jobs in order. Given a list of job names, print them in FIFO order.\n",
    "- Input: `jobs = [\"Doc1\", \"Doc2\", \"Doc3\"]`\n",
    "- Output:\n",
    "```\n",
    "Printing: Doc1\n",
    "Printing: Doc2\n",
    "Printing: Doc3\n",
    "```\n"
   ]
  },
  {
   "cell_type": "code",
   "execution_count": null,
   "id": "64669f3b",
   "metadata": {},
   "outputs": [],
   "source": []
  },
  {
   "cell_type": "markdown",
   "id": "94b35e8a",
   "metadata": {},
   "source": [
    "---\n",
    "## 3) Linked Lists (Concept Only for Now — No OOP Yet)\n",
    "\n",
    "A **linked list** is a chain of nodes. Each node stores **data** and a **link to the next node**.  \n",
    "We normally implement this with **classes** (OOP). Since we haven't covered OOP yet, we'll:\n",
    "- Explain the idea\n",
    "- Practice **traversal** and **append** using a *simple simulation* (list of tuples)\n",
    "\n",
    "**Representation (simulation)**\n",
    "Each element is a tuple: `(value, next_index)`\n",
    "- `value` → the data\n",
    "- `next_index` → the index in the Python list where the next node lives (or `None` if it's the last)\n"
   ]
  },
  {
   "cell_type": "code",
   "execution_count": 1,
   "id": "b61acb76",
   "metadata": {},
   "outputs": [
    {
     "name": "stdout",
     "output_type": "stream",
     "text": [
      "A -> B -> C -> None\n"
     ]
    }
   ],
   "source": [
    "# A tiny simulated linked list: index 0 -> index 1 -> index 2 -> None\n",
    "# [ (value, next_idx), ... ]"
   ]
  },
  {
   "cell_type": "markdown",
   "id": "726e24bf",
   "metadata": {},
   "source": [
    "### Exercise: Write a function to traverse a simulated list\n",
    "Implement `traverse_sim(head_index, storage)` that collects values from the simulated linked list into a Python list.\n"
   ]
  },
  {
   "cell_type": "code",
   "execution_count": null,
   "id": "0e1d03b0",
   "metadata": {},
   "outputs": [],
   "source": []
  },
  {
   "cell_type": "markdown",
   "id": "db4bd629",
   "metadata": {},
   "source": [
    "### Exercise: Append to the end of a simulated list\n",
    "Implement `append_sim(value, head_index, storage)` that **adds** a new node at the end.\n",
    "- Return the possibly **new head index** and the **updated storage**.\n",
    "- New node should have `next_index = None`.\n"
   ]
  }
 ],
 "metadata": {
  "created": "2025-09-02T00:41:28.408815Z",
  "kernelspec": {
   "display_name": "Python 3",
   "language": "python",
   "name": "python3"
  },
  "language_info": {
   "codemirror_mode": {
    "name": "ipython",
    "version": 3
   },
   "file_extension": ".py",
   "mimetype": "text/x-python",
   "name": "python",
   "nbconvert_exporter": "python",
   "pygments_lexer": "ipython3",
   "version": "3.12.1"
  }
 },
 "nbformat": 4,
 "nbformat_minor": 5
}
