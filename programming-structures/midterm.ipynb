{
 "cells": [
  {
   "cell_type": "markdown",
   "id": "f3d44d20",
   "metadata": {},
   "source": [
    "# Section 1\n",
    "---"
   ]
  },
  {
   "cell_type": "markdown",
   "id": "92478934",
   "metadata": {},
   "source": [
    "#### Variables"
   ]
  },
  {
   "cell_type": "markdown",
   "id": "364292ba",
   "metadata": {},
   "source": [
    "#### Data Types"
   ]
  },
  {
   "cell_type": "markdown",
   "id": "61688016",
   "metadata": {},
   "source": [
    "#### Operators"
   ]
  },
  {
   "cell_type": "markdown",
   "id": "3430aaea",
   "metadata": {},
   "source": [
    "#### Conditional Logic"
   ]
  },
  {
   "cell_type": "markdown",
   "id": "522aad1d",
   "metadata": {},
   "source": [
    "# Section 2\n",
    "---"
   ]
  },
  {
   "cell_type": "markdown",
   "id": "aab90b2b",
   "metadata": {},
   "source": [
    "#### Sets"
   ]
  },
  {
   "cell_type": "markdown",
   "id": "ee28afde",
   "metadata": {},
   "source": [
    "#### Dictionaries"
   ]
  },
  {
   "cell_type": "markdown",
   "id": "b17047cd",
   "metadata": {},
   "source": [
    "#### Stacks"
   ]
  },
  {
   "cell_type": "markdown",
   "id": "7c059319",
   "metadata": {},
   "source": [
    "#### Queues"
   ]
  },
  {
   "cell_type": "markdown",
   "id": "7b1208a3",
   "metadata": {},
   "source": [
    "#### Deques"
   ]
  },
  {
   "cell_type": "markdown",
   "id": "e21647ee",
   "metadata": {},
   "source": [
    "#### Linked Lists"
   ]
  },
  {
   "cell_type": "markdown",
   "id": "6fada2b2",
   "metadata": {},
   "source": [
    "# Section 3\n",
    "---"
   ]
  },
  {
   "cell_type": "markdown",
   "id": "c23690ce",
   "metadata": {},
   "source": [
    "#### Bubble Sort"
   ]
  },
  {
   "cell_type": "markdown",
   "id": "f8dd3280",
   "metadata": {},
   "source": [
    "#### Selection Sort"
   ]
  },
  {
   "cell_type": "markdown",
   "id": "3d6f6f1a",
   "metadata": {},
   "source": [
    "#### Insertion Sort"
   ]
  },
  {
   "cell_type": "markdown",
   "id": "cda70e14",
   "metadata": {},
   "source": [
    "#### Merge Sort"
   ]
  },
  {
   "cell_type": "markdown",
   "id": "d1e6715f",
   "metadata": {},
   "source": [
    "#### Quick Sort"
   ]
  }
 ],
 "metadata": {
  "kernelspec": {
   "display_name": "Python 3",
   "language": "python",
   "name": "python3"
  },
  "language_info": {
   "codemirror_mode": {
    "name": "ipython",
    "version": 3
   },
   "file_extension": ".py",
   "mimetype": "text/x-python",
   "name": "python",
   "nbconvert_exporter": "python",
   "pygments_lexer": "ipython3",
   "version": "3.12.1"
  }
 },
 "nbformat": 4,
 "nbformat_minor": 5
}
