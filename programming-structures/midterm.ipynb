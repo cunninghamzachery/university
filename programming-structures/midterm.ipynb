{
 "cells": [
  {
   "cell_type": "code",
   "execution_count": null,
   "id": "677b443f",
   "metadata": {},
   "outputs": [],
   "source": [
    "\n",
    "# SECTION 1 ----------------------------------------------- #\n",
    "\n",
    "## Variables\n",
    "\n",
    "## Data Types\n",
    "\n",
    "## Operators\n",
    "\n",
    "## Conditional Logic\n",
    "\n",
    "# SECTION 2 ----------------------------------------------- #\n",
    "\n",
    "## Sets\n",
    "\n",
    "## Dictionaries\n",
    "\n",
    "## Stacks\n",
    "\n",
    "## Queues\n",
    "\n",
    "## Deque\n",
    "\n",
    "## Linked Lists\n",
    "\n",
    "# SECTION 3 ----------------------------------------------- #\n",
    "\n",
    "## Bubble Sort\n",
    "\n",
    "## Selection Sort\n",
    "\n",
    "## Insertion Sort\n",
    "\n",
    "## Iterative Merge Sort\n",
    "\n",
    "## Iterative Quick Sort\n"
   ]
  }
 ],
 "metadata": {
  "language_info": {
   "name": "python"
  }
 },
 "nbformat": 4,
 "nbformat_minor": 5
}
