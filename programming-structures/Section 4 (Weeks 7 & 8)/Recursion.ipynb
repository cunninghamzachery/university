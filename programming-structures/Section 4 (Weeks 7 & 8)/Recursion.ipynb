{
  "metadata": {
    "kernelspec": {
      "name": "xcpp17",
      "display_name": "C++17",
      "language": "cpp"
    },
    "language_info": {
      "codemirror_mode": "text/x-c++src",
      "file_extension": ".cpp",
      "mimetype": "text/x-c++src",
      "name": "C++",
      "version": "17"
    }
  },
  "nbformat_minor": 5,
  "nbformat": 4,
  "cells": [
    {
      "id": "9837e6d3",
      "cell_type": "markdown",
      "source": "\n# Recursion — (CS201)\n\n## Learning Outcomes\nBy the end of this module you will be able to:\n- Explain what recursion is and identify base and recursive cases.\n- Trace recursive code using the call stack and simple drawings.\n- Implement classic recursive problems (factorial, sum, power, reverse string, digit count).\n- Recognize common pitfalls (missing base case, wrong progress, double recursion blow‑ups).\n- Apply recursion to algorithmic problems (Fibonacci, GCD, quick sort) and nested data.\n- Compare naive recursion to improved approaches (e.g., memoization) at a high level.\n",
      "metadata": {}
    },
    {
      "id": "7c38d97e",
      "cell_type": "markdown",
      "source": "\n---\n# Foundations of Recursion\n\n## 1. What is Recursion?\n**Recursion** is when a function calls **itself** to solve a smaller version of the same problem. Every recursive function must have:\n\n1) **Base case** the simplest input where we can return an answer **directly** (stops recursion).  \n2) **Recursive case** reduces the input, **moving toward** the base case.\n\n> Mental Model: “Divide the big problem into smaller copies of itself, stop at the simplest possible version.”\n",
      "metadata": {}
    },
    {
      "id": "421c0f1c",
      "cell_type": "markdown",
      "source": "\n### 1.1 The Call Stack (Why order matters)\nEach function call gets its own **stack frame** (its variables + return address).  \nWhen a recursive function calls itself:\n- The new call is **pushed** on top of the stack.\n- When it finishes, it **returns** and pops off the stack.\n- Execution then resumes in the caller.\n\n**Rule of Thumb:** If the recursive case does **not** move closer to the base case, you will get **infinite recursion** (and a `RecursionError`).\n",
      "metadata": {}
    },
    {
      "id": "2f2235f9",
      "cell_type": "code",
      "source": "def echo_down(n):\n",
      "metadata": {},
      "outputs": [],
      "execution_count": null
    },
    {
      "id": "ced25570",
      "cell_type": "markdown",
      "source": "\nNotice how calls stack like: `echo_down(3)` → `echo_down(2)` → `echo_down(1)` → base.  \nAfter hitting base, returns unwind in reverse order.\n",
      "metadata": {}
    },
    {
      "id": "453e853e",
      "cell_type": "markdown",
      "source": "\n## 2. Factorial — First Classic\n**Definition:**  \n- `0! = 1` (base)  \n- `n! = n × (n-1)!` for `n ≥ 1` (recursive)\n",
      "metadata": {}
    },
    {
      "id": "6cae147f",
      "cell_type": "code",
      "source": "def factorial(n):",
      "metadata": {},
      "outputs": [],
      "execution_count": null
    },
    {
      "id": "67299560",
      "cell_type": "markdown",
      "source": "\n**Trace (factorial(4))**  \n`factorial(4) = 4 * factorial(3)`  \n`factorial(3) = 3 * factorial(2)`  \n`factorial(2) = 2 * factorial(1)`  \n`factorial(1) = 1 * factorial(0)`  \n`factorial(0) = 1` (base)  \nThen values return and multiply on the way back up.\n",
      "metadata": {}
    },
    {
      "id": "e2ccdbf9",
      "cell_type": "markdown",
      "source": "\n## 3. Sum of Natural Numbers\n",
      "metadata": {}
    },
    {
      "id": "3e9f503a-c967-4933-b592-51d41424dd40",
      "cell_type": "code",
      "source": "def sum_n(n: in) -> int:\n",
      "metadata": {
        "trusted": true
      },
      "outputs": [],
      "execution_count": null
    },
    {
      "id": "0a670971",
      "cell_type": "markdown",
      "source": "\n## 4. Power (a^b)\nSimple recursion (linear in b):  \n- base: `a^0 = 1`  \n- step: `a^b = a * a^(b-1)` for `b>0`\n",
      "metadata": {}
    },
    {
      "id": "4757dc91",
      "cell_type": "code",
      "source": "\ndef power(a,b):\n    \n",
      "metadata": {},
      "outputs": [],
      "execution_count": null
    },
    {
      "id": "1e6db29e",
      "cell_type": "markdown",
      "source": "\n## 5. Reverse a String\nIdea: move the first character to the **end** by reversing the rest.  \n- base: empty string or length 1 → return s  \n- step: `reverse(s) = reverse(s[1:]) + s[0]`\n",
      "metadata": {}
    },
    {
      "id": "10df850b",
      "cell_type": "code",
      "source": "\ndef reverse_str(s):\n",
      "metadata": {},
      "outputs": [],
      "execution_count": null
    },
    {
      "id": "4277ea02",
      "cell_type": "markdown",
      "source": "\n## 6. Count Digits (non-negative int)\n- base: `n < 10` → 1 digit  \n- step: ``\n",
      "metadata": {}
    },
    {
      "id": "d3b22f71",
      "cell_type": "code",
      "source": "def count_digits(n):\n   \n",
      "metadata": {},
      "outputs": [],
      "execution_count": null
    },
    {
      "id": "069c8b3d",
      "cell_type": "markdown",
      "source": "\n## 7. Common Pitfalls & Debugging Tips\n- **Missing base case** → infinite recursion.  \n- **Wrong progress** (e.g., `n+1` instead of `n-1`) → never reaches base.  \n- **Double recursion explosion** (Fibonacci) → exponential time.\n\n**Debugging tips:**  \n- Add **print** statements that show parameters at entry/exit.  \n- Use small inputs first.  \n- Draw a **small recursion tree** by hand.\n",
      "metadata": {}
    },
    {
      "id": "ae41846a",
      "cell_type": "markdown",
      "source": "\n### Exercises\n1. Write `power(a, b)` recursively (as above) and test for several values.  \n2. Write `reverse_str(s)` recursively (as above) and test on at least 3 strings.  \n3. Write `count_digits(n)` recursively and test on 1‑digit, 3‑digit, 6‑digit numbers.  \n4. Write `sum_n(n)` recursively and prove by example that `sum_n(10) = 55`.\n\n> Use the empty cells below for your answers.\n",
      "metadata": {}
    },
    {
      "id": "378ef5f5",
      "cell_type": "code",
      "source": "# Exercise 1 — your code here\n",
      "metadata": {},
      "outputs": [],
      "execution_count": null
    },
    {
      "id": "5c416d01",
      "cell_type": "code",
      "source": "# Exercise 2 — your code here\n",
      "metadata": {},
      "outputs": [],
      "execution_count": null
    },
    {
      "id": "8e92cfb9",
      "cell_type": "code",
      "source": "# Exercise 3 — your code here\n",
      "metadata": {},
      "outputs": [],
      "execution_count": null
    },
    {
      "id": "7ed65387",
      "cell_type": "code",
      "source": "# Exercise 4 — your code here\n",
      "metadata": {},
      "outputs": [],
      "execution_count": null
    },
    {
      "id": "be997834",
      "cell_type": "markdown",
      "source": "\n---\n# Applied Recursion & Patterns\n\n## 8. Fibonacci (Naive Recursion)\nDefinition:\n- `F(0) = 0`, `F(1) = 1`\n- `F(n) = F(n-1) + F(n-2)` for `n ≥ 2`\n\nThis has **two** recursive calls → **exponential** time.\n",
      "metadata": {}
    },
    {
      "id": "bec41350-b950-481b-8237-09838011a3f0",
      "cell_type": "code",
      "source": "def fib_naive(n):\n",
      "metadata": {
        "trusted": true
      },
      "outputs": [],
      "execution_count": null
    },
    {
      "id": "82d7d1b1",
      "cell_type": "markdown",
      "source": "\n### 8.1 (Optional) Memoization Preview (Performance)\nWe can cache results to avoid recomputing the same subproblems.\n",
      "metadata": {}
    },
    {
      "id": "972797c9",
      "cell_type": "code",
      "source": "\n",
      "metadata": {},
      "outputs": [],
      "execution_count": null
    },
    {
      "id": "4316a072",
      "cell_type": "markdown",
      "source": "\n## 9. Greatest Common Divisor (GCD) — Euclidean Algorithm\n`gcd(a, b) = gcd(b, a % b)` with base `gcd(a, 0) = a`.\nThis is a classic **tail recursion** pattern.\n",
      "metadata": {}
    },
    {
      "id": "603d8e51",
      "cell_type": "code",
      "source": "\ndef gcd(a, b):\n",
      "metadata": {},
      "outputs": [],
      "execution_count": null
    },
    {
      "id": "4c83c595",
      "cell_type": "markdown",
      "source": "\n## 10. Recursive Quick Sort (with Lomuto Partition)\nIdea: Pick a pivot, partition the array so that all elements <= pivot go left and the rest go right, put the pivot in its final position, then recursively quick-sort the left and right parts.\n\nWe’ll use our partition function(pivot = last element).\n",
      "metadata": {}
    },
    {
      "id": "6bbe40d2",
      "cell_type": "code",
      "source": "def partition(arr, low, high):\n    pivot = arr[high]\n    i = low - 1\n    for j in range(low, high):\n        if arr[j] <= pivot:\n            i += 1\n            arr[i], arr[j] = arr[j], arr[i]\n    arr[i + 1], arr[high] = arr[high], arr[i + 1]\n    return i + 1",
      "metadata": {},
      "outputs": [],
      "execution_count": null
    },
    {
      "id": "c5997206-7bb5-4cbc-9eb9-5e593a39a453",
      "cell_type": "code",
      "source": "",
      "metadata": {
        "trusted": true
      },
      "outputs": [],
      "execution_count": null
    },
    {
      "id": "24cf543d",
      "cell_type": "markdown",
      "source": "\n## 11. (Concept) Recursive Merge Sort vs. Iterative\n- **Recursive view:** split the array into halves until size 1 (base), then merge back up.  \n- **Iterative view (what you used before):** merge adjacent blocks with sizes 1, 2, 4, 8, …\n\nKey insight: both achieve **O(n log n)** time, different **control flow**.\n",
      "metadata": {}
    },
    {
      "id": "5f446cf3",
      "cell_type": "markdown",
      "source": "\n---\n## Study Guide & Tips\n- Always identify **base** and **recursive** cases **before** coding.  \n- Ensure each recursive call moves **closer** to the base case.  \n- Use prints or a small **recursion tree** to debug.  \n- Prefer recursion when the problem is naturally **self-similar** (trees, divide‑and‑conquer).\n",
      "metadata": {}
    },
    {
      "id": "cbb02b0a-e5db-4d46-84dc-faccca9ce5cb",
      "cell_type": "code",
      "source": "",
      "metadata": {
        "trusted": true
      },
      "outputs": [],
      "execution_count": null
    }
  ]
}