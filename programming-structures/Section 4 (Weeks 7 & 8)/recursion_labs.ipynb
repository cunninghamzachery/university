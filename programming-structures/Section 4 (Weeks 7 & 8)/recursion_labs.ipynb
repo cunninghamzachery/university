{
  "metadata": {
    "kernelspec": {
      "name": "python",
      "display_name": "Python (Pyodide)",
      "language": "python"
    },
    "language_info": {
      "name": ""
    }
  },
  "nbformat_minor": 5,
  "nbformat": 4,
  "cells": [
    {
      "id": "796e72db",
      "cell_type": "markdown",
      "source": "# Recursion Labs\n\nThese six labs reinforce recursion concepts.  \nEach exercise asks you to clearly state the **base case** and the **recursive step**, then implement the function.\n\n**Labs**\n1. Sum of Digits  \n2. Countdown to 0  \n3. Count Up from 1 to n  \n4. Product of a List  \n5. Count Occurrences in a List  \n6. Recursive Maximum in a List\n\n> Tip: If your recursion never stops, check that each call moves you **closer to the base case**.\n",
      "metadata": {}
    },
    {
      "id": "a5513912",
      "cell_type": "markdown",
      "source": "## Lab 1 — Sum of Digits\n\nWhen you add the digits of a number, you get something much smaller and simpler. For example, the digits of 1234 add up to 1+2+3+4 = 10.\n\nThe challenge is: how do you break a number apart into digits without converting it to a string? Think about what the “last digit” means in terms of division and remainders, and how you could keep peeling off digits until nothing is left.\nWrite a function that takes a non-negative integer and returns the sum of its digits.\n\n**Constraints:**\n- Assume `n` is a non‑negative integer.\n- Do **not** use `str(n)`.\n",
      "metadata": {}
    },
    {
      "id": "ef7cefb2",
      "cell_type": "code",
      "source": "\n",
      "metadata": {},
      "outputs": [],
      "execution_count": null
    },
    {
      "id": "84153113",
      "cell_type": "markdown",
      "source": "## Lab 2 — Countdown to 0\n\nImagine you’re launching a rocket and need to count down: 5, 4, 3, 2, 1, 0. Each step looks like the same task, just with a smaller number. Eventually, the countdown must stop — but when?\n\nWrite a function that, given a number n, produces the sequence of numbers from n down to 0.\n\n**Note:** The function should return a list of numbers\n",
      "metadata": {}
    },
    {
      "id": "8e605cd3",
      "cell_type": "code",
      "source": "\n",
      "metadata": {},
      "outputs": [],
      "execution_count": null
    },
    {
      "id": "187f59de",
      "cell_type": "markdown",
      "source": "## Lab 3 — Count Up from 1 to n\n\nNow flip the rocket story: instead of counting down, you want to build up from the ground. Starting at 1, you want to list numbers in increasing order until you reach n.\nThink about how recursion might work differently here: you first solve the smaller problem (1 up to n-1) and then add the “final step” at the end.\n\nWrite a function that returns the list of numbers from 1 up to n.\n\n**Constraint:** Assume `n >= 1`.\n",
      "metadata": {}
    },
    {
      "id": "834da9f3",
      "cell_type": "code",
      "source": "",
      "metadata": {},
      "outputs": [],
      "execution_count": null
    },
    {
      "id": "804ffdea",
      "cell_type": "markdown",
      "source": "## Lab 4 — Product of a List\n\nSuppose you are multiplying numbers in a list: [2, 3, 4] → 24. If you think about it, multiplying a whole list is the same as multiplying the first element with “the product of the rest of the list.” If the list has nothing in it, what should the result be so the multiplication makes sense?\n\nWrite a function that takes a list of numbers and returns their product using recursion.\n\n**Notes:** You may assume all elements are numbers. You may also write a helper that uses indices to avoid slicing (optional).\n",
      "metadata": {}
    },
    {
      "id": "9f4b2c3f",
      "cell_type": "code",
      "source": "",
      "metadata": {},
      "outputs": [],
      "execution_count": null
    },
    {
      "id": "72bb5334",
      "cell_type": "markdown",
      "source": "## Lab 5 — Count Occurrences in a List\n\nYou have a bag of numbers and want to know: “How many times does the number 2 appear?” One way is to look at the first element. If it matches, add one; if not, add zero. Then you let the same problem continue on the rest of the list. Eventually, you’ll run out of numbers to check.\n\nWrite a function that counts how many times a given value appears in a list.\n",
      "metadata": {}
    },
    {
      "id": "937b0b74-0718-437d-ad01-2d8c32e264a8",
      "cell_type": "code",
      "source": "",
      "metadata": {
        "trusted": true
      },
      "outputs": [],
      "execution_count": null
    },
    {
      "id": "9d93c6a4",
      "cell_type": "markdown",
      "source": "## Lab 6 — Recursive Maximum in a List\n\nHow do you find the largest number in a group? One way is to compare two things at a time: compare the first element with “the biggest of the rest.” This keeps breaking the problem into smaller ones until only one number is left — and that one must be the biggest in its group.\nWrite a function that finds the maximum element in a list using recursion.\n\n**Constraints:** Assume the list is **non-empty**.\n",
      "metadata": {}
    },
    {
      "id": "82f5dd47",
      "cell_type": "code",
      "source": "def max_recursive(lst: list[int]) -> int:\n    \"\"\"Return the maximum element of a non-empty list recursively.\n    Base: one element -> that element\n    Step: max(lst[0], max_recursive(lst[1:]))\n    Precondition: len(lst) >= 1\n    \"\"\"\n    # TODO: Implement recursively\n    raise NotImplementedError\n",
      "metadata": {},
      "outputs": [],
      "execution_count": null
    },
    {
      "id": "1e89604b",
      "cell_type": "code",
      "source": "# Quick self-checks\n# assert max_recursive([42]) == 42\n# assert max_recursive([3,1,4,1,5,9]) == 9\n# assert max_recursive([-2,-5,-1]) == -1\n# print(\"Lab 6 checks passed!\")",
      "metadata": {},
      "outputs": [],
      "execution_count": null
    }
  ]
}