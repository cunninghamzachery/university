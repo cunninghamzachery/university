{
 "cells": [
  {
   "cell_type": "markdown",
   "id": "daae57a5",
   "metadata": {},
   "source": [
    "\n",
    "# Sorting Lab Set — Bubble, Selection, Insertion\n",
    "\n",
    "This lab focuses on measuring algorithmic work, targeted sorting, and analyzing sortedness using the three algorithms covered in class: **Bubble Sort**, **Selection Sort**, and **Insertion Sort**.\n",
    "\n",
    "You will work on three exercises:\n",
    "\n",
    "1. Measuring the Work Done by Sorting Algorithms — count *comparisons* and *swaps/shifts*.\n",
    "2. Sort Only Even Numbers — sort only a subset while keeping odds fixed in place.\n",
    "3. Minimum Swaps to Sort — analyze how far the array is from being sorted.\n"
   ]
  },
  {
   "cell_type": "markdown",
   "id": "05706bbf",
   "metadata": {},
   "source": [
    "\n",
    "## Exercise 1 — Measuring the Work Done by Sorting Algorithms\n",
    "\n",
    "Sorting algorithms differ in how much *work* they do. Extend your Bubble, Selection, and Insertion Sort to count:\n",
    "\n",
    "- **Comparisons:** every time two values are compared.\n",
    "- **Swaps/Shifts:**  \n",
    "  - For **Bubble/Selection**, count swaps (two elements exchanged).  \n",
    "  - For **Insertion**, count shifts (moving an element one position to the right).\n",
    "\n",
    "### Your tasks\n",
    "1. Implement three functions with the following signatures:\n",
    "   - `bubble_counts(arr) -> tuple[list[int], int, int]`\n",
    "   - `selection_counts(arr) -> tuple[list[int], int, int]`\n",
    "   - `insertion_counts(arr) -> tuple[list[int], int, int]`\n",
    "2. Each should **return** `(sorted_list, comparisons, swaps_or_shifts)`.\n",
    "3. Run on the test input `arr = [10, 5, 2, 3, 1]` and print the three counts clearly.\n",
    "4. Briefly explain (in comments) why the counts differ among the three algorithms.\n"
   ]
  },
  {
   "cell_type": "code",
   "execution_count": null,
   "id": "59930ae4-08a4-4b66-8122-399283dd3ed7",
   "metadata": {},
   "outputs": [],
   "source": [
    "def bubble_counts(sorted_list):\n",
    "    comparisons = 0\n",
    "    swaps_or_shifts = 0\n",
    "    limit = len(sorted_list)\n",
    "    \n",
    "    \n",
    "    while limit > 0:\n",
    "        for i in range(0,(len(sorted_list) - 1)):\n",
    "            comparisons += 1\n",
    "            if sorted_list[i] > sorted_list[i+1]:\n",
    "                sorted_list[i], sorted_list[i+1] = sorted_list[i+1], sorted_list[i]\n",
    "                swaps_or_shifts += 1\n",
    "                limit = len(sorted_list)\n",
    "            else:\n",
    "                limit -= 1\n",
    "                \n",
    "    return sorted_list, comparisons, swaps_or_shifts"
   ]
  },
  {
   "cell_type": "code",
   "execution_count": 19,
   "id": "55dce29c",
   "metadata": {},
   "outputs": [
    {
     "name": "stdout",
     "output_type": "stream",
     "text": [
      "sorted_list     = [1, 2, 3, 5, 10]\n",
      "comparisons     = 20\n",
      "swaps_or_shifts = 9\n"
     ]
    }
   ],
   "source": [
    "counts = bubble_counts([10,5,2,3,1])\n",
    "print(f\"sorted_list     = {counts[0]}\", \n",
    "      f\"comparisons     = {counts[1]}\", \n",
    "      f\"swaps_or_shifts = {counts[2]}\", sep=\"\\n\" )"
   ]
  },
  {
   "cell_type": "code",
   "execution_count": 23,
   "id": "da921aef",
   "metadata": {},
   "outputs": [],
   "source": [
    "def selection_counts(sorted_list):\n",
    "    comparisons = 0\n",
    "    swaps_or_shifts = 0\n",
    "        \n",
    "    for i in range(len(sorted_list)):\n",
    "        z = sorted_list.index(min(sorted_list[i:]))\n",
    "        if sorted_list[i] > sorted_list[z]:\n",
    "            sorted_list[i], sorted_list[z] = sorted_list[z], sorted_list[i]\n",
    "            swaps_or_shifts += 1\n",
    "        comparisons += 1\n",
    "    \n",
    "    return sorted_list, comparisons, swaps_or_shifts"
   ]
  },
  {
   "cell_type": "code",
   "execution_count": 24,
   "id": "6367889e",
   "metadata": {},
   "outputs": [
    {
     "name": "stdout",
     "output_type": "stream",
     "text": [
      "sorted_list     = [1, 2, 3, 5, 10]\n",
      "comparisons     = 5\n",
      "swaps_or_shifts = 3\n"
     ]
    }
   ],
   "source": [
    "counts = selection_counts([10,5,2,3,1])\n",
    "print(f\"sorted_list     = {counts[0]}\", \n",
    "      f\"comparisons     = {counts[1]}\", \n",
    "      f\"swaps_or_shifts = {counts[2]}\", sep=\"\\n\" )"
   ]
  },
  {
   "cell_type": "code",
   "execution_count": null,
   "id": "1b2df6f2",
   "metadata": {},
   "outputs": [],
   "source": [
    "def insertion_counts(sorted_list):\n",
    "    comparisons = 0\n",
    "    swaps_or_shifts = 0\n",
    "    \n",
    "    \n",
    "    \n",
    "    return sorted_list, comparisons, swaps_or_shifts"
   ]
  },
  {
   "cell_type": "markdown",
   "id": "9835d99b",
   "metadata": {},
   "source": [
    "\n",
    "## Exercise 2 — Sort Only Even Numbers (Odds Stay Fixed)\n",
    "\n",
    "Adapt Bubble Sort, Selection Sort, and Insertion Sort themselves so that they sort only the even numbers in ascending order while keeping all odd numbers fixed in place\n",
    "\n",
    "### Your tasks\n",
    "- Change sorting algorithms as follows:\n",
    "   - Identifies indices of all even elements.\n",
    "   - Sorts those even values only.\n",
    "   - Writes them back to the same indices in ascending order.\n",
    "   - Leaves all odd numbers untouched.\n",
    "- Test on the following arrays and verify output manually:\n",
    "   - `[9, 6, 7, 4, 5, 2]` → expected: `[9, 2, 7, 4, 5, 6]`\n",
    "   - `[2, 4, 6, 8]` → expected: `[2, 4, 6, 8]`\n",
    "   - `[1, 3, 5, 7]` → expected: `[1, 3, 5, 7]`\n"
   ]
  },
  {
   "cell_type": "code",
   "execution_count": null,
   "id": "15fb8a29",
   "metadata": {},
   "outputs": [],
   "source": []
  },
  {
   "cell_type": "markdown",
   "id": "c244db42",
   "metadata": {},
   "source": [
    "\n",
    "## Exercise 3 — Minimum Swaps to Sort (Measure of Disorderedness)\n",
    "\n",
    "Not all arrays are equally unsorted. One way to quantify \"how far\" an array is from being sorted is the minimum number of swaps required to sort it in ascending order. Each swap exchanges two elements anywhere in the array.\n",
    "\n",
    "### Your tasks\n",
    "1. Implement `minimum_swaps(arr)` that returns the fewest swaps needed to sort the array.\n",
    "2. Use the cycle decomposition idea: compare current positions with positions in the sorted array. Each cycle of length `L` requires `L-1` swaps.\n",
    "3. Test your function on:\n",
    "   - `[4, 3, 1, 2]` → expected: `3`\n",
    "   - `[1, 5, 4, 3, 2]` → expected: `3`\n"
   ]
  },
  {
   "cell_type": "code",
   "execution_count": null,
   "id": "a81e1577",
   "metadata": {},
   "outputs": [],
   "source": []
  }
 ],
 "metadata": {
  "kernelspec": {
   "display_name": "Python 3",
   "language": "python",
   "name": "python3"
  },
  "language_info": {
   "codemirror_mode": {
    "name": "ipython",
    "version": 3
   },
   "file_extension": ".py",
   "mimetype": "text/x-python",
   "name": "python",
   "nbconvert_exporter": "python",
   "pygments_lexer": "ipython3",
   "version": "3.12.1"
  }
 },
 "nbformat": 4,
 "nbformat_minor": 5
}
