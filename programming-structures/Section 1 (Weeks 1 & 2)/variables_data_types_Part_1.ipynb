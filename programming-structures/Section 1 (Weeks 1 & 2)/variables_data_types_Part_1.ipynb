{
 "cells": [
  {
   "cell_type": "markdown",
   "id": "4fbe4e5d-4969-40f3-8396-a2828326783d",
   "metadata": {},
   "source": [
    "# Part 1: Variables, Data Types, Operators, and Conditional Logic"
   ]
  },
  {
   "cell_type": "markdown",
   "id": "cba6b240-aa7f-4d3a-bb73-c65281e66d29",
   "metadata": {},
   "source": [
    "### Variables\n",
    "\n",
    "Why do we need variables?\n",
    " - make values accessible\n",
    " - provide context\n",
    " - easier to change code\n",
    " \n",
    "Naming conventions\n",
    " - should use `snake_case` (same as functions, but classes use `CapitalizedWords`; see [PEP8](https://pep8.org/); PEP = Python enhancement protocol) \n",
    " - can have digits \n",
    " - cannot start with a digit\n",
    " - descriptive names are better than short names\n",
    " - avoid using Python's reserved keywords, like `print`, `len`, etc. \n",
    " \n",
    "> Consistency is what is most important!\n",
    " "
   ]
  },
  {
   "cell_type": "code",
   "execution_count": null,
   "id": "34b1208b",
   "metadata": {},
   "outputs": [],
   "source": [
    "# allowed\n",
    "xyz = 1\n",
    "XYZ = 2\n",
    "my_int = 5\n",
    "my_float = 6.3"
   ]
  },
  {
   "cell_type": "markdown",
   "id": "3fee5c9d",
   "metadata": {},
   "source": [
    "```\n",
    "# not allowed\n",
    "1xyz = 1\n",
    "x-y-z = 2\n",
    "x y z = 3\n",
    "x.y.z = 4"
   ]
  },
  {
   "cell_type": "markdown",
   "id": "fa773840-0cfa-4313-9282-6f5737c02936",
   "metadata": {},
   "source": [
    "\n",
    "<center><img src=\"../variable_pointer.PNG\" alt=\"Drawing\" style=\"width: 400px; height: 300px;\"/><br><br>\n",
    "(source: realpython.com)</center>"
   ]
  },
  {
   "cell_type": "markdown",
   "id": "b2cec478",
   "metadata": {},
   "source": [
    "## Data types\n",
    "\n",
    "A [full list](https://docs.python.org/3/library/stdtypes.html#) of data types is available in the documentation. For the moment, we will focus on a few of the most basic, most often used data types:\n",
    "\n",
    " - numeric\n",
    " - string\n",
    " - boolean\n",
    " - lists\n",
    " - tuples\n",
    " - dictionaries\n",
    " - sets"
   ]
  },
  {
   "cell_type": "markdown",
   "id": "6df87581-4d8d-4270-8dca-72211f5d411b",
   "metadata": {
    "tags": []
   },
   "source": [
    "### Numeric, boolean, and text data types\n",
    "\n",
    " \n",
    " - integers\n",
    " - floats\n",
    " - strings\n",
    " - boolean\n",
    " "
   ]
  },
  {
   "cell_type": "code",
   "execution_count": null,
   "id": "63a8f9f8",
   "metadata": {},
   "outputs": [
    {
     "data": {
      "text/plain": [
       "52"
      ]
     },
     "execution_count": 2,
     "metadata": {},
     "output_type": "execute_result"
    }
   ],
   "source": [
    "my_int = 5\n",
    "my_int"
   ]
  },
  {
   "cell_type": "code",
   "execution_count": 11,
   "id": "6cb1f938",
   "metadata": {},
   "outputs": [
    {
     "data": {
      "text/plain": [
       "8.4"
      ]
     },
     "execution_count": 11,
     "metadata": {},
     "output_type": "execute_result"
    }
   ],
   "source": [
    "my_float = 8.4\n",
    "my_float"
   ]
  },
  {
   "cell_type": "code",
   "execution_count": 12,
   "id": "ef54f339",
   "metadata": {},
   "outputs": [
    {
     "data": {
      "text/plain": [
       "'this is a test'"
      ]
     },
     "execution_count": 12,
     "metadata": {},
     "output_type": "execute_result"
    }
   ],
   "source": [
    "my_string = \"this is a test\"\n",
    "my_string"
   ]
  },
  {
   "cell_type": "code",
   "execution_count": 15,
   "id": "761d5d68",
   "metadata": {},
   "outputs": [
    {
     "data": {
      "text/plain": [
       "True"
      ]
     },
     "execution_count": 15,
     "metadata": {},
     "output_type": "execute_result"
    }
   ],
   "source": [
    "my_boolean = True\n",
    "my_boolean"
   ]
  },
  {
   "cell_type": "markdown",
   "id": "27c08014",
   "metadata": {},
   "source": [
    "Jupyter Notebooks does not require print statements, as shown above"
   ]
  },
  {
   "cell_type": "markdown",
   "id": "d8c5a66b-1983-4050-b906-d6f0736489c2",
   "metadata": {},
   "source": [
    "#### Type casting"
   ]
  },
  {
   "cell_type": "code",
   "execution_count": 17,
   "id": "704a971a",
   "metadata": {},
   "outputs": [
    {
     "data": {
      "text/plain": [
       "5.0"
      ]
     },
     "execution_count": 17,
     "metadata": {},
     "output_type": "execute_result"
    }
   ],
   "source": [
    "# int to float\n",
    "float(my_int)"
   ]
  },
  {
   "cell_type": "code",
   "execution_count": 18,
   "id": "3281e81a",
   "metadata": {},
   "outputs": [
    {
     "data": {
      "text/plain": [
       "'5'"
      ]
     },
     "execution_count": 18,
     "metadata": {},
     "output_type": "execute_result"
    }
   ],
   "source": [
    "# int to string\n",
    "str(my_int)"
   ]
  },
  {
   "cell_type": "code",
   "execution_count": 21,
   "id": "b0c408bb",
   "metadata": {},
   "outputs": [
    {
     "name": "stdout",
     "output_type": "stream",
     "text": [
      "5\n"
     ]
    }
   ],
   "source": [
    "print(str(my_int))\n",
    "# print will not show the quotations"
   ]
  },
  {
   "cell_type": "code",
   "execution_count": 22,
   "id": "177bfacb",
   "metadata": {},
   "outputs": [
    {
     "data": {
      "text/plain": [
       "True"
      ]
     },
     "execution_count": 22,
     "metadata": {},
     "output_type": "execute_result"
    }
   ],
   "source": [
    "# int to boolean\n",
    "bool(my_int)"
   ]
  },
  {
   "cell_type": "code",
   "execution_count": 23,
   "id": "02a6c58d",
   "metadata": {},
   "outputs": [
    {
     "data": {
      "text/plain": [
       "True"
      ]
     },
     "execution_count": 23,
     "metadata": {},
     "output_type": "execute_result"
    }
   ],
   "source": [
    "# try out other combinations (to convert to integer use int())\n",
    "# make sure you play around with bool() to see what values are considered True or False\n",
    "bool(my_float)"
   ]
  },
  {
   "cell_type": "code",
   "execution_count": 24,
   "id": "5e7467c4",
   "metadata": {},
   "outputs": [
    {
     "data": {
      "text/plain": [
       "False"
      ]
     },
     "execution_count": 24,
     "metadata": {},
     "output_type": "execute_result"
    }
   ],
   "source": [
    "bool(0)"
   ]
  },
  {
   "cell_type": "code",
   "execution_count": 25,
   "id": "1d3533d2",
   "metadata": {},
   "outputs": [
    {
     "data": {
      "text/plain": [
       "True"
      ]
     },
     "execution_count": 25,
     "metadata": {},
     "output_type": "execute_result"
    }
   ],
   "source": [
    "bool(my_string)"
   ]
  },
  {
   "cell_type": "code",
   "execution_count": 26,
   "id": "333c503c",
   "metadata": {},
   "outputs": [
    {
     "ename": "ValueError",
     "evalue": "invalid literal for int() with base 10: '6.0'",
     "output_type": "error",
     "traceback": [
      "\u001b[31m---------------------------------------------------------------------------\u001b[39m",
      "\u001b[31mValueError\u001b[39m                                Traceback (most recent call last)",
      "\u001b[36mCell\u001b[39m\u001b[36m \u001b[39m\u001b[32mIn[26]\u001b[39m\u001b[32m, line 1\u001b[39m\n\u001b[32m----> \u001b[39m\u001b[32m1\u001b[39m \u001b[38;5;28mbool\u001b[39m(\u001b[38;5;28;43mint\u001b[39;49m\u001b[43m(\u001b[49m\u001b[38;5;28;43mstr\u001b[39;49m\u001b[43m(\u001b[49m\u001b[38;5;28;43mfloat\u001b[39;49m\u001b[43m(\u001b[49m\u001b[32;43m6\u001b[39;49m\u001b[43m)\u001b[49m\u001b[43m)\u001b[49m\u001b[43m)\u001b[49m)\n",
      "\u001b[31mValueError\u001b[39m: invalid literal for int() with base 10: '6.0'"
     ]
    }
   ],
   "source": [
    "bool(int(str(float(6))))"
   ]
  },
  {
   "cell_type": "code",
   "execution_count": null,
   "id": "aa2b7dc0",
   "metadata": {},
   "outputs": [],
   "source": []
  },
  {
   "cell_type": "markdown",
   "id": "72f69c1f-3577-4e2c-af84-20502e2b5c0b",
   "metadata": {
    "tags": []
   },
   "source": [
    "#### Operators\n",
    "\n",
    " - `+` \n",
    " - `-` \n",
    " - `*` \n",
    " - `**`  \n",
    " - `//` \n",
    " - `%`\n",
    "\n",
    " Augmented assignment:\n",
    "  - `+=`\n",
    "  - `-=`\n",
    "  - `*=`\n",
    "  - `/=`"
   ]
  },
  {
   "cell_type": "code",
   "execution_count": null,
   "id": "4e388d18",
   "metadata": {},
   "outputs": [],
   "source": []
  },
  {
   "cell_type": "markdown",
   "id": "aaed6d62-1b50-4b0c-8596-b79cd898e65b",
   "metadata": {},
   "source": [
    "##### Linear congruential generator"
   ]
  },
  {
   "cell_type": "markdown",
   "id": "6ade328c",
   "metadata": {},
   "source": [
    "A linear congruential generator (LCG) is a type of random number generator that produces a sequence of numbers based on a simple mathematical formula. It is called \"linear\" because the formula involves multiplying the previous number by a constant and adding another constant.\n",
    "\n",
    "The formula for an LCG is:\n",
    "$$\n",
    "X_{n+1} = (aX_n + c) \\, \\rm{mod} \\; m\n",
    "$$\n",
    "\n",
    "where $X_{n+1}$ = next number in sequence, $X_n$ is previous number in sequence, $a$, $c$, and $m$ are constants, and `mod` (modulo) is the same operation as `%`, remainder division."
   ]
  },
  {
   "cell_type": "code",
   "execution_count": null,
   "id": "4b43a24a-9048-47fb-8ce3-93e8775a223b",
   "metadata": {
    "tags": []
   },
   "outputs": [],
   "source": [
    "a = 9\n",
    "c = 3\n",
    "m = 19\n",
    "\n",
    "x = 5\n",
    "\n",
    "for i in range(20):\n",
    "    x = (a*x + c) % m\n",
    "    print(x)"
   ]
  },
  {
   "cell_type": "markdown",
   "id": "201430a5-b4f5-45a0-b50f-411dc59dc416",
   "metadata": {},
   "source": [
    "##### Operator precedence\n",
    "\n",
    "A full list of [operator precedence](https://docs.python.org/3/reference/expressions.html#operator-summary) can be found in the documentation. \n",
    "\n",
    "- brackets\n",
    "- subscripting\n",
    "- exponents\n",
    "- multiplication/division/integer division (`//`)/remainder division `%`\n",
    "- addition/subtraction\n"
   ]
  },
  {
   "cell_type": "code",
   "execution_count": null,
   "id": "14621d57",
   "metadata": {},
   "outputs": [],
   "source": []
  },
  {
   "cell_type": "markdown",
   "id": "6051db8c-80d4-469c-86f5-8029934ea0b5",
   "metadata": {
    "tags": []
   },
   "source": [
    "### Conditional logic\n",
    "\n",
    "Boolean comparators\n",
    "\n",
    "- equal to `==`\n",
    "- not equal to `!=`\n",
    "- greater than `>`\n",
    "- less than `<`\n",
    "- greater than or equal to `>=`\n",
    "- less than or equal to `<=`"
   ]
  },
  {
   "cell_type": "code",
   "execution_count": null,
   "id": "16479e58",
   "metadata": {},
   "outputs": [],
   "source": [
    "\n"
   ]
  }
 ],
 "metadata": {
  "kernelspec": {
   "display_name": "Python 3",
   "language": "python",
   "name": "python3"
  },
  "language_info": {
   "codemirror_mode": {
    "name": "ipython",
    "version": 3
   },
   "file_extension": ".py",
   "mimetype": "text/x-python",
   "name": "python",
   "nbconvert_exporter": "python",
   "pygments_lexer": "ipython3",
   "version": "3.12.1"
  }
 },
 "nbformat": 4,
 "nbformat_minor": 5
}
