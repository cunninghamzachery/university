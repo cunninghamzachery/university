{
 "cells": [
  {
   "cell_type": "markdown",
   "id": "66ce1611",
   "metadata": {},
   "source": [
    "# # Lab exercise 1 -  CS401L"
   ]
  },
  {
   "cell_type": "markdown",
   "id": "e6615ced",
   "metadata": {},
   "source": [
    "## Variable Naming and Type Checking\n",
    "\n",
    "- Define variables: `total_price`, `num_items`, `item_name` with appropriate values.\n",
    "- Use `type()` to check data types.\n",
    "- Try defining `class = 10`. What happens?"
   ]
  },
  {
   "cell_type": "markdown",
   "id": "ba2370f6",
   "metadata": {},
   "source": [
    "## Type Casting\n",
    "\n",
    "- Convert `'123.45'` into float and int. What do you observe?\n",
    "- Cast a float to a string and append `\" dollars\"` to it."
   ]
  },
  {
   "cell_type": "markdown",
   "id": "7e06245e",
   "metadata": {},
   "source": [
    "## Numeric and Boolean Operations\n",
    "\n",
    "- With `x = 13`, `y = 4`, calculate:\n",
    "  - Integer division\n",
    "  - Modulo\n",
    "  - Exponent\n",
    "  - Floor division\n",
    "- If `passed = True` and `score = 78.5`, check if score > 60 and print a message."
   ]
  },
  {
   "cell_type": "markdown",
   "id": "ea28cb9c",
   "metadata": {},
   "source": [
    "## Operator Precedence\n",
    "\n",
    "- Predict and evaluate the following:\n",
    "```python\n",
    "3 + 4 * 2\n",
    "(3 + 4) * 2\n",
    "2 ** 3 ** 2\n",
    "100 // (5 * (2 + 3))\n",
    "```"
   ]
  },
  {
   "cell_type": "markdown",
   "id": "27193be7",
   "metadata": {},
   "source": [
    "## Conditional Logic\n",
    "\n",
    "- Ask for temperature in Celsius.\n",
    "- Print: \"It's hot!\" if > 30, \"Nice weather\" if 15–30, otherwise \"It's cold!\"."
   ]
  },
  {
   "cell_type": "markdown",
   "id": "9eb1cc17",
   "metadata": {},
   "source": [
    "# Sequence, Set, and Mapping Types"
   ]
  },
  {
   "cell_type": "markdown",
   "id": "4771b2de",
   "metadata": {},
   "source": [
    "## List Operations\n",
    "\n",
    "- Create a list of 5 favorite movies.\n",
    "- Replace the 2nd item, append one, remove the 1st, then sort."
   ]
  },
  {
   "cell_type": "markdown",
   "id": "c8138465",
   "metadata": {},
   "source": [
    "## Tuple Practice\n",
    "\n",
    "- Create a tuple with 3 strings and 1 number.\n",
    "- Try to change an element.\n",
    "- Convert to list, modify, then convert back."
   ]
  },
  {
   "cell_type": "markdown",
   "id": "5c694d4b",
   "metadata": {},
   "source": [
    "## Range and Iteration\n",
    "\n",
    "- Create a list of even numbers from 10 to 40 using `range`.\n",
    "- Print each number and its square."
   ]
  },
  {
   "cell_type": "markdown",
   "id": "6521e1f9",
   "metadata": {},
   "source": [
    "## Set Practice\n",
    "\n",
    "- Create a set of 5 favorite fruits.\n",
    "- Add one, remove one.\n",
    "- Make a second set and find union, intersection, difference."
   ]
  },
  {
   "cell_type": "markdown",
   "id": "f14df88f",
   "metadata": {},
   "source": [
    "## Dictionary Practice\n",
    "\n",
    "- Create a dictionary of three students and their grades.\n",
    "- Add a fourth, update one, delete one, loop to print all."
   ]
  }
 ],
 "metadata": {
  "kernelspec": {
   "display_name": "Python [conda env:base] *",
   "language": "python",
   "name": "conda-base-py"
  },
  "language_info": {
   "codemirror_mode": {
    "name": "ipython",
    "version": 3
   },
   "file_extension": ".py",
   "mimetype": "text/x-python",
   "name": "python",
   "nbconvert_exporter": "python",
   "pygments_lexer": "ipython3",
   "version": "3.12.7"
  }
 },
 "nbformat": 4,
 "nbformat_minor": 5
}
