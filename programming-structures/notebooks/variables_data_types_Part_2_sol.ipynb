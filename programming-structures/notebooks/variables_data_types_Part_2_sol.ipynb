{
 "cells": [
  {
   "cell_type": "markdown",
   "id": "4fbe4e5d-4969-40f3-8396-a2828326783d",
   "metadata": {},
   "source": [
    "# Part 2: Variables, Data Types, Operators, and Conditional Logic"
   ]
  },
  {
   "cell_type": "markdown",
   "id": "ee094192-3c84-442f-a918-fd3b9c269d32",
   "metadata": {
    "tags": []
   },
   "source": [
    "### Sequence types: `list`, `tuple`, and `range`\n"
   ]
  },
  {
   "cell_type": "markdown",
   "id": "990d4591",
   "metadata": {},
   "source": [
    "#### Lists \n",
    "\n",
    "Lists may be constructed in several ways:\n",
    "\n",
    " - using square brackets:\n",
    "    - empty list: `[]`\n",
    "    - separating items with commas: `[a]`, `[a, b, c]`\n",
    " - list comprehension: \n",
    "    - `[x for x in iterable]`\n",
    " - type constructor: \n",
    "    - empty list: `list()` \n",
    "    - from iterable: `list(iterable)`"
   ]
  },
  {
   "cell_type": "code",
   "execution_count": 4,
   "id": "097eff82",
   "metadata": {},
   "outputs": [
    {
     "data": {
      "text/plain": [
       "[]"
      ]
     },
     "execution_count": 4,
     "metadata": {},
     "output_type": "execute_result"
    }
   ],
   "source": [
    "# create some lists\n",
    "\n",
    "my_list1= []\n",
    "my_list1"
   ]
  },
  {
   "cell_type": "code",
   "execution_count": 5,
   "id": "189be2a6-ffa3-4a2d-a32b-540690ba258e",
   "metadata": {},
   "outputs": [
    {
     "data": {
      "text/plain": [
       "[1, 2, 3, 4, 5]"
      ]
     },
     "execution_count": 5,
     "metadata": {},
     "output_type": "execute_result"
    }
   ],
   "source": [
    "my_list1 = [1,2,3,4,5]\n",
    "my_list1"
   ]
  },
  {
   "cell_type": "code",
   "execution_count": 6,
   "id": "8dceedad-58ee-4346-b49f-f799f11701ac",
   "metadata": {},
   "outputs": [
    {
     "data": {
      "text/plain": [
       "[]"
      ]
     },
     "execution_count": 6,
     "metadata": {},
     "output_type": "execute_result"
    }
   ],
   "source": [
    "my_list2 = list()\n",
    "my_list2"
   ]
  },
  {
   "cell_type": "code",
   "execution_count": 7,
   "id": "41ead2bf-1e6d-41a4-937d-0b25784ef935",
   "metadata": {},
   "outputs": [
    {
     "data": {
      "text/plain": [
       "['a', 'b', 'c']"
      ]
     },
     "execution_count": 7,
     "metadata": {},
     "output_type": "execute_result"
    }
   ],
   "source": [
    "my_list2 = list('abc')\n",
    "my_list2"
   ]
  },
  {
   "cell_type": "code",
   "execution_count": 8,
   "id": "3ac3475c-9313-4520-be26-65a82351d79e",
   "metadata": {},
   "outputs": [
    {
     "data": {
      "text/plain": [
       "[[1, 2, 3, 4, 5], ['a', 'b', 'c']]"
      ]
     },
     "execution_count": 8,
     "metadata": {},
     "output_type": "execute_result"
    }
   ],
   "source": [
    "list_my_lists = [my_list1,my_list2]\n",
    "list_my_lists"
   ]
  },
  {
   "cell_type": "markdown",
   "id": "7151bf81",
   "metadata": {},
   "source": [
    "##### List methods/operations\n",
    "\n",
    "Lists impement all of the [common sequence methods](https://docs.python.org/3/library/stdtypes.html#typesseq-common) and \n",
    "the [mutable sequence operations/methods](https://docs.python.org/3/library/stdtypes.html#typesseq-mutable).\n",
    "\n",
    "In addition, lists also support the additional method:\n",
    "   - `sort(key=None, reverse=False)`\n",
    "   - more information on sorting can be found in the [docs](https://docs.python.org/3/howto/sorting.html#sortinghowto)"
   ]
  },
  {
   "cell_type": "markdown",
   "id": "177ff121",
   "metadata": {},
   "source": [
    "\n",
    "##### List properties\n",
    "\n",
    "The important properties of lists are as follows:\n",
    " - elements can be accessed by index (suscriptable)\n",
    " - iterable\n",
    " - mutable\n",
    " - ordered\n",
    " - can contain any arbitrary objects\n",
    " - can be nested to arbitrary depth\n",
    " - dynamic (change size)\n",
    "\n"
   ]
  },
  {
   "cell_type": "markdown",
   "id": "6a9f6263",
   "metadata": {},
   "source": [
    "\n",
    "<center><img src=\"Python_indexing.png\" alt=\"Drawing\" style=\"width: 600px;\"/><br><br>\n"
   ]
  },
  {
   "cell_type": "code",
   "execution_count": 68,
   "id": "058bf386",
   "metadata": {},
   "outputs": [
    {
     "data": {
      "text/plain": [
       "[5, 10, 8, 'c', 0, 'a']"
      ]
     },
     "execution_count": 68,
     "metadata": {},
     "output_type": "execute_result"
    }
   ],
   "source": [
    "# create some lists\n",
    "my_list3 = [5,10,8,'c',0,'a']\n",
    "my_list3"
   ]
  },
  {
   "cell_type": "code",
   "execution_count": 70,
   "id": "3304aacc",
   "metadata": {},
   "outputs": [
    {
     "data": {
      "text/plain": [
       "['a', 'b', 'c', 'd', 'e', 'f', 'g']"
      ]
     },
     "execution_count": 70,
     "metadata": {},
     "output_type": "execute_result"
    }
   ],
   "source": [
    "# list of letters\n",
    "list_letters = list('abcdefg')\n",
    "list_letters"
   ]
  },
  {
   "cell_type": "code",
   "execution_count": 72,
   "id": "dada56d7",
   "metadata": {},
   "outputs": [
    {
     "data": {
      "text/plain": [
       "5"
      ]
     },
     "execution_count": 72,
     "metadata": {},
     "output_type": "execute_result"
    }
   ],
   "source": [
    "# get a single element\n",
    "my_list3[0] # first item"
   ]
  },
  {
   "cell_type": "code",
   "execution_count": 74,
   "id": "049b928b-eadf-4667-8555-45a4660ea2f5",
   "metadata": {},
   "outputs": [
    {
     "data": {
      "text/plain": [
       "'a'"
      ]
     },
     "execution_count": 74,
     "metadata": {},
     "output_type": "execute_result"
    }
   ],
   "source": [
    "my_list3[-1] #last item"
   ]
  },
  {
   "cell_type": "code",
   "execution_count": 78,
   "id": "d952638f-274f-40ae-8313-e09e60d4d4da",
   "metadata": {},
   "outputs": [
    {
     "data": {
      "text/plain": [
       "7"
      ]
     },
     "execution_count": 78,
     "metadata": {},
     "output_type": "execute_result"
    }
   ],
   "source": [
    "len(list_letters)"
   ]
  },
  {
   "cell_type": "code",
   "execution_count": 80,
   "id": "6a585b21-82a6-4450-9a04-f84f4512fa31",
   "metadata": {},
   "outputs": [
    {
     "data": {
      "text/plain": [
       "'g'"
      ]
     },
     "execution_count": 80,
     "metadata": {},
     "output_type": "execute_result"
    }
   ],
   "source": [
    "list_letters[len(list_letters)-1] #last item"
   ]
  },
  {
   "cell_type": "code",
   "execution_count": 88,
   "id": "83502669-9e11-4895-9d5d-c134b479a953",
   "metadata": {},
   "outputs": [
    {
     "data": {
      "text/plain": [
       "['a', 'b', 'c']"
      ]
     },
     "execution_count": 88,
     "metadata": {},
     "output_type": "execute_result"
    }
   ],
   "source": [
    "# slicing\n",
    "# basic slicing\n",
    "list_letters[0:3]\n",
    "\n",
    "# leaving off starting and ending index\n",
    "\n",
    "\n",
    "# step size different than 1\n",
    "\n",
    "\n"
   ]
  },
  {
   "cell_type": "code",
   "execution_count": 92,
   "id": "1a769772-9b1c-4f0d-a5af-31fb956c4dd4",
   "metadata": {},
   "outputs": [
    {
     "data": {
      "text/plain": [
       "['a', 'b', 'c', 'd', 'e', 'f', 'g']"
      ]
     },
     "execution_count": 92,
     "metadata": {},
     "output_type": "execute_result"
    }
   ],
   "source": [
    "list_letters"
   ]
  },
  {
   "cell_type": "code",
   "execution_count": 96,
   "id": "74d3a638",
   "metadata": {},
   "outputs": [
    {
     "data": {
      "text/plain": [
       "['d', 'e', 'f']"
      ]
     },
     "execution_count": 96,
     "metadata": {},
     "output_type": "execute_result"
    }
   ],
   "source": [
    "# negative indices\n",
    "list_letters[-4:-1]\n"
   ]
  },
  {
   "cell_type": "code",
   "execution_count": 90,
   "id": "2a7657db-4549-485b-9d19-d4fc2fc4b5ed",
   "metadata": {},
   "outputs": [
    {
     "data": {
      "text/plain": [
       "['e', 'f', 'g']"
      ]
     },
     "execution_count": 90,
     "metadata": {},
     "output_type": "execute_result"
    }
   ],
   "source": [
    "list_letters[4:]\n"
   ]
  },
  {
   "cell_type": "code",
   "execution_count": 104,
   "id": "29a05082-e4b1-49e2-a54b-34e12ae1e21e",
   "metadata": {},
   "outputs": [
    {
     "data": {
      "text/plain": [
       "['a', 'c', 'e']"
      ]
     },
     "execution_count": 104,
     "metadata": {},
     "output_type": "execute_result"
    }
   ],
   "source": [
    "list_letters[0:5:2] # [start:end:step]"
   ]
  },
  {
   "cell_type": "code",
   "execution_count": 106,
   "id": "592d48af-a509-4c45-8fb2-30e2569a2d49",
   "metadata": {},
   "outputs": [
    {
     "data": {
      "text/plain": [
       "[5, 10, 8, 'c', 0, 'a']"
      ]
     },
     "execution_count": 106,
     "metadata": {},
     "output_type": "execute_result"
    }
   ],
   "source": [
    "my_list3"
   ]
  },
  {
   "cell_type": "code",
   "execution_count": 108,
   "id": "b9e1f193",
   "metadata": {},
   "outputs": [
    {
     "data": {
      "text/plain": [
       "[500, 10, 8, 'c', 0, 'a']"
      ]
     },
     "execution_count": 108,
     "metadata": {},
     "output_type": "execute_result"
    }
   ],
   "source": [
    "# change an element\n",
    "my_list3[0]= 500\n",
    "my_list3"
   ]
  },
  {
   "cell_type": "code",
   "execution_count": 110,
   "id": "a4bb9a99",
   "metadata": {},
   "outputs": [
    {
     "name": "stdout",
     "output_type": "stream",
     "text": [
      "a\n",
      "b\n",
      "c\n",
      "d\n",
      "e\n",
      "f\n",
      "g\n"
     ]
    }
   ],
   "source": [
    "# iterate over a list\n",
    "\n",
    "for letter in list_letters:\n",
    "    print(letter)"
   ]
  },
  {
   "cell_type": "code",
   "execution_count": 113,
   "id": "4bb47313",
   "metadata": {},
   "outputs": [
    {
     "data": {
      "text/plain": [
       "False"
      ]
     },
     "execution_count": 113,
     "metadata": {},
     "output_type": "execute_result"
    }
   ],
   "source": [
    "# ordered \n",
    "\n",
    "[1,2,3] ==[3,2,1]\n"
   ]
  },
  {
   "cell_type": "code",
   "execution_count": 115,
   "id": "056ca7ef",
   "metadata": {},
   "outputs": [
    {
     "data": {
      "text/plain": [
       "[1, 'test', True, 3.14]"
      ]
     },
     "execution_count": 115,
     "metadata": {},
     "output_type": "execute_result"
    }
   ],
   "source": [
    "# arbitrary objects\n",
    "\n",
    "[1,\"test\",True,3.14]"
   ]
  },
  {
   "cell_type": "code",
   "execution_count": 117,
   "id": "0f3be00f",
   "metadata": {},
   "outputs": [
    {
     "data": {
      "text/plain": [
       "[[500, 10, 8, 'c', 0, 'a'], ['a', 'b', 'c', 'd', 'e', 'f', 'g']]"
      ]
     },
     "execution_count": 117,
     "metadata": {},
     "output_type": "execute_result"
    }
   ],
   "source": [
    "# nesting\n",
    "\n",
    "nested_list = [my_list3,list_letters]\n",
    "nested_list"
   ]
  },
  {
   "cell_type": "code",
   "execution_count": 119,
   "id": "757cc063-1f26-40de-9948-7982f43a53b0",
   "metadata": {},
   "outputs": [
    {
     "data": {
      "text/plain": [
       "[500, 10, 8, 'c', 0, 'a']"
      ]
     },
     "execution_count": 119,
     "metadata": {},
     "output_type": "execute_result"
    }
   ],
   "source": [
    "nested_list[0]"
   ]
  },
  {
   "cell_type": "code",
   "execution_count": 121,
   "id": "3560ca7d-3b09-4e44-90c1-06f7f428bba8",
   "metadata": {},
   "outputs": [
    {
     "data": {
      "text/plain": [
       "'c'"
      ]
     },
     "execution_count": 121,
     "metadata": {},
     "output_type": "execute_result"
    }
   ],
   "source": [
    "nested_list[0][3] # access to the first 'c'"
   ]
  },
  {
   "cell_type": "code",
   "execution_count": 123,
   "id": "58b1732f-a58c-4e4c-bf21-1787b9472fc7",
   "metadata": {},
   "outputs": [
    {
     "data": {
      "text/plain": [
       "'c'"
      ]
     },
     "execution_count": 123,
     "metadata": {},
     "output_type": "execute_result"
    }
   ],
   "source": [
    "nested_list[1][2]# access to the second 'c'"
   ]
  },
  {
   "cell_type": "code",
   "execution_count": 125,
   "id": "80a4f29d",
   "metadata": {},
   "outputs": [],
   "source": [
    "# add/remove elements to a list: append, extend, remove, +\n",
    "\n",
    "list_letters.extend(['h','i'])\n"
   ]
  },
  {
   "cell_type": "code",
   "execution_count": 127,
   "id": "d796e204-e303-435a-8f84-bb99265c413b",
   "metadata": {},
   "outputs": [
    {
     "data": {
      "text/plain": [
       "['a', 'b', 'c', 'd', 'e', 'f', 'g', 'h', 'i']"
      ]
     },
     "execution_count": 127,
     "metadata": {},
     "output_type": "execute_result"
    }
   ],
   "source": [
    "list_letters"
   ]
  },
  {
   "cell_type": "code",
   "execution_count": 129,
   "id": "c65962bd-5957-4b43-b3dd-16d09a2447cb",
   "metadata": {},
   "outputs": [
    {
     "data": {
      "text/plain": [
       "['a', 'b', 'c', 'd', 'e', 'f', 'g', 'h', 'i', 'j', 'k']"
      ]
     },
     "execution_count": 129,
     "metadata": {},
     "output_type": "execute_result"
    }
   ],
   "source": [
    "list_letters + ['j','k']"
   ]
  },
  {
   "cell_type": "code",
   "execution_count": 131,
   "id": "c2b4fbc7-45e5-446c-a739-fb5670694a5c",
   "metadata": {},
   "outputs": [],
   "source": [
    "list_letters.append(1)"
   ]
  },
  {
   "cell_type": "code",
   "execution_count": 133,
   "id": "8d589531-9778-481c-8b2f-759db4ed67ec",
   "metadata": {},
   "outputs": [
    {
     "data": {
      "text/plain": [
       "['a', 'b', 'c', 'd', 'e', 'f', 'g', 'h', 'i', 1]"
      ]
     },
     "execution_count": 133,
     "metadata": {},
     "output_type": "execute_result"
    }
   ],
   "source": [
    "list_letters"
   ]
  },
  {
   "cell_type": "code",
   "execution_count": 135,
   "id": "1c1ef2eb-5170-44c8-91f4-bb6c81c27b28",
   "metadata": {},
   "outputs": [
    {
     "data": {
      "text/plain": [
       "['a', 'b', 'c', 'd', 'e', 'f', 'g', 'h', 'i']"
      ]
     },
     "execution_count": 135,
     "metadata": {},
     "output_type": "execute_result"
    }
   ],
   "source": [
    "list_letters.remove(1)\n",
    "list_letters"
   ]
  },
  {
   "cell_type": "markdown",
   "id": "2f9ac83f",
   "metadata": {},
   "source": [
    "#### Tuples \n",
    "\n",
    "Tuples may be constructed in several ways:\n",
    " - empty tuple: \n",
    "    - `()`\n",
    "    - `tuple()`\n",
    " - a singleton tuple: \n",
    "    - `a,` \n",
    "    - `(a,)`\n",
    " - a multi-element tuple:\n",
    "    - `a, b, c` \n",
    "    - `(a, b, c)`\n",
    "    - `tuple(iterable)`"
   ]
  },
  {
   "cell_type": "code",
   "execution_count": 139,
   "id": "6a9a6be3",
   "metadata": {},
   "outputs": [
    {
     "data": {
      "text/plain": [
       "tuple"
      ]
     },
     "execution_count": 139,
     "metadata": {},
     "output_type": "execute_result"
    }
   ],
   "source": [
    "# create some tuples\n",
    "my_tuple = ()\n",
    "type(my_tuple)"
   ]
  },
  {
   "cell_type": "code",
   "execution_count": 141,
   "id": "a236abcd-c6d3-43e9-9f58-9833c6d65e05",
   "metadata": {},
   "outputs": [
    {
     "data": {
      "text/plain": [
       "(1, 2, 3)"
      ]
     },
     "execution_count": 141,
     "metadata": {},
     "output_type": "execute_result"
    }
   ],
   "source": [
    "my_tuple1 = (1,2,3)\n",
    "my_tuple1"
   ]
  },
  {
   "cell_type": "markdown",
   "id": "b62580a2",
   "metadata": {},
   "source": [
    "##### Tuple methods\n",
    "\n",
    "Tuples impement all of the [common sequence methods](https://docs.python.org/3/library/stdtypes.html#typesseq-common).\n"
   ]
  },
  {
   "cell_type": "markdown",
   "id": "89a386f7",
   "metadata": {},
   "source": [
    "##### Tuple properties\n",
    "\n",
    "The important properties of tuples are as follows:\n",
    " - elements can be accessed by index (suscriptable)\n",
    " - iterable\n",
    " - immutable\n",
    " - ordered\n",
    " - can contain any arbitrary objects\n",
    " - can be nested to arbitrary depth\n"
   ]
  },
  {
   "cell_type": "code",
   "execution_count": 143,
   "id": "5f2aa423",
   "metadata": {},
   "outputs": [
    {
     "data": {
      "text/plain": [
       "10"
      ]
     },
     "execution_count": 143,
     "metadata": {},
     "output_type": "execute_result"
    }
   ],
   "source": [
    "# create a tuple\n",
    "\n",
    "my_tuple2 = (6,12,10,0,8)\n",
    "# single element selection\n",
    "my_tuple2[2]\n"
   ]
  },
  {
   "cell_type": "code",
   "execution_count": 145,
   "id": "7e711425",
   "metadata": {},
   "outputs": [
    {
     "data": {
      "text/plain": [
       "(10, 0)"
      ]
     },
     "execution_count": 145,
     "metadata": {},
     "output_type": "execute_result"
    }
   ],
   "source": [
    "# slice\n",
    "\n",
    "my_tuple2[2:4]\n",
    "\n"
   ]
  },
  {
   "cell_type": "code",
   "execution_count": 147,
   "id": "afa5e914-7439-4d7c-a1b9-1b29eaee28ba",
   "metadata": {},
   "outputs": [
    {
     "ename": "TypeError",
     "evalue": "'tuple' object does not support item assignment",
     "output_type": "error",
     "traceback": [
      "\u001b[0;31m---------------------------------------------------------------------------\u001b[0m",
      "\u001b[0;31mTypeError\u001b[0m                                 Traceback (most recent call last)",
      "Cell \u001b[0;32mIn[147], line 3\u001b[0m\n\u001b[1;32m      1\u001b[0m \u001b[38;5;66;03m# change an element \u001b[39;00m\n\u001b[0;32m----> 3\u001b[0m my_tuple2[\u001b[38;5;241m2\u001b[39m] \u001b[38;5;241m=\u001b[39m \u001b[38;5;241m100\u001b[39m\n",
      "\u001b[0;31mTypeError\u001b[0m: 'tuple' object does not support item assignment"
     ]
    }
   ],
   "source": [
    "# change an element \n",
    "\n",
    "my_tuple2[2] = 100\n"
   ]
  },
  {
   "cell_type": "code",
   "execution_count": 149,
   "id": "df589c68-95b2-4ba5-a264-576ede22cb42",
   "metadata": {},
   "outputs": [
    {
     "name": "stdout",
     "output_type": "stream",
     "text": [
      "6\n",
      "12\n",
      "10\n",
      "0\n",
      "8\n"
     ]
    }
   ],
   "source": [
    "# iterate over a tuple\n",
    "\n",
    "for number in my_tuple2:\n",
    "    print(number)\n"
   ]
  },
  {
   "cell_type": "code",
   "execution_count": 153,
   "id": "51656fde-3098-47ea-8334-c19ce39eb3d0",
   "metadata": {},
   "outputs": [
    {
     "data": {
      "text/plain": [
       "False"
      ]
     },
     "execution_count": 153,
     "metadata": {},
     "output_type": "execute_result"
    }
   ],
   "source": [
    "# ordered\n",
    "\n",
    "(1,2,3) == (3,2,1) # order matters\n"
   ]
  },
  {
   "cell_type": "code",
   "execution_count": 155,
   "id": "a710b7ae-6252-4e9e-b8be-566e47d874a3",
   "metadata": {},
   "outputs": [
    {
     "data": {
      "text/plain": [
       "(1, 'test', False, 3.14)"
      ]
     },
     "execution_count": 155,
     "metadata": {},
     "output_type": "execute_result"
    }
   ],
   "source": [
    "# arbitrary objects\n",
    "\n",
    "\n",
    "(1,'test',False,3.14)"
   ]
  },
  {
   "cell_type": "code",
   "execution_count": 157,
   "id": "49a03593-694c-47e8-870d-cc797bc5ea32",
   "metadata": {},
   "outputs": [
    {
     "data": {
      "text/plain": [
       "((1, 2, 3), (6, 12, 10, 0, 8))"
      ]
     },
     "execution_count": 157,
     "metadata": {},
     "output_type": "execute_result"
    }
   ],
   "source": [
    "# nesting\n",
    "nested_tuple = (my_tuple1,my_tuple2)\n",
    "nested_tuple"
   ]
  },
  {
   "cell_type": "code",
   "execution_count": 161,
   "id": "7a2292b5-2f09-462d-bf08-7b9af450c14b",
   "metadata": {},
   "outputs": [
    {
     "data": {
      "text/plain": [
       "0"
      ]
     },
     "execution_count": 161,
     "metadata": {},
     "output_type": "execute_result"
    }
   ],
   "source": [
    "nested_tuple[1][3] # get 0"
   ]
  },
  {
   "cell_type": "markdown",
   "id": "61d2a96c",
   "metadata": {},
   "source": [
    "#### `range` function"
   ]
  },
  {
   "cell_type": "markdown",
   "id": "765b34bf",
   "metadata": {},
   "source": [
    "The range object is:\n",
    " - suscriptable\n",
    " - iterable\n",
    " - immutable\n",
    " - ordered\n",
    "\n",
    "However, you will generally see it used for loops, so the iterable property is the only one typcially seen. "
   ]
  },
  {
   "cell_type": "code",
   "execution_count": null,
   "id": "cb5b5bc1",
   "metadata": {},
   "outputs": [],
   "source": [
    "#range(end)\n",
    "#range(start=0,end)\n",
    "#range(start,end,step=1)"
   ]
  },
  {
   "cell_type": "code",
   "execution_count": 169,
   "id": "1e4457dc",
   "metadata": {},
   "outputs": [
    {
     "name": "stdout",
     "output_type": "stream",
     "text": [
      "range(0, 5)\n"
     ]
    }
   ],
   "source": [
    "# basic use of range\n",
    "my_range=range(5)\n",
    "my_range"
   ]
  },
  {
   "cell_type": "code",
   "execution_count": 181,
   "id": "785ed597-a808-41f7-8440-7d5512ab901d",
   "metadata": {},
   "outputs": [
    {
     "data": {
      "text/plain": [
       "4"
      ]
     },
     "execution_count": 181,
     "metadata": {},
     "output_type": "execute_result"
    }
   ],
   "source": [
    "my_range[-1]"
   ]
  },
  {
   "cell_type": "code",
   "execution_count": 189,
   "id": "526db79e-1c86-4dfb-9a6a-10e524fe9a30",
   "metadata": {},
   "outputs": [
    {
     "data": {
      "text/plain": [
       "7"
      ]
     },
     "execution_count": 189,
     "metadata": {},
     "output_type": "execute_result"
    }
   ],
   "source": [
    "my_range2 = range(3,8)\n",
    "my_range2[-1]"
   ]
  },
  {
   "cell_type": "code",
   "execution_count": 191,
   "id": "40369b72-dabf-4592-8cdc-f781d03845f1",
   "metadata": {},
   "outputs": [
    {
     "data": {
      "text/plain": [
       "3"
      ]
     },
     "execution_count": 191,
     "metadata": {},
     "output_type": "execute_result"
    }
   ],
   "source": [
    "my_range2[0]"
   ]
  },
  {
   "cell_type": "code",
   "execution_count": 193,
   "id": "abb62b97-0360-4b08-81a7-f7d3511413d9",
   "metadata": {},
   "outputs": [
    {
     "ename": "TypeError",
     "evalue": "'range' object does not support item assignment",
     "output_type": "error",
     "traceback": [
      "\u001b[0;31m---------------------------------------------------------------------------\u001b[0m",
      "\u001b[0;31mTypeError\u001b[0m                                 Traceback (most recent call last)",
      "Cell \u001b[0;32mIn[193], line 2\u001b[0m\n\u001b[1;32m      1\u001b[0m \u001b[38;5;66;03m#change an element\u001b[39;00m\n\u001b[0;32m----> 2\u001b[0m my_range2[\u001b[38;5;241m0\u001b[39m] \u001b[38;5;241m=\u001b[39m \u001b[38;5;241m3\u001b[39m\n",
      "\u001b[0;31mTypeError\u001b[0m: 'range' object does not support item assignment"
     ]
    }
   ],
   "source": [
    "#change an element\n",
    "my_range2[0] = 3"
   ]
  },
  {
   "cell_type": "code",
   "execution_count": 195,
   "id": "45418750-0cf9-4bc3-bc0d-adcf9aa67a47",
   "metadata": {},
   "outputs": [
    {
     "name": "stdout",
     "output_type": "stream",
     "text": [
      "1\n",
      "2\n",
      "3\n",
      "4\n",
      "5\n"
     ]
    }
   ],
   "source": [
    "for i in range(1,6):\n",
    "    print(i)"
   ]
  },
  {
   "cell_type": "code",
   "execution_count": 199,
   "id": "933d3211-4628-4280-9363-fc441d059f14",
   "metadata": {},
   "outputs": [
    {
     "name": "stdout",
     "output_type": "stream",
     "text": [
      "2\n",
      "4\n",
      "6\n",
      "8\n",
      "10\n"
     ]
    }
   ],
   "source": [
    "for i in range(1,11,2):\n",
    "    print(i+1)"
   ]
  },
  {
   "cell_type": "code",
   "execution_count": null,
   "id": "0dd90451-ced0-4ddb-bc09-1b4fc4cbf53b",
   "metadata": {},
   "outputs": [],
   "source": []
  },
  {
   "cell_type": "markdown",
   "id": "d090831e",
   "metadata": {},
   "source": [
    "### Set types: `set`\n",
    "\n",
    " - using braces:\n",
    "    - separating items with commas: `{'a', 'b', 'c'}`\n",
    " - set comprehension: \n",
    "    - `{ch for ch in 'abc'}`\n",
    " - type constructor: \n",
    "    - empty list: `set()` \n",
    "    - from iterable: `set(iterable)`\n",
    "\n"
   ]
  },
  {
   "cell_type": "code",
   "execution_count": 201,
   "id": "d0df0ba6",
   "metadata": {},
   "outputs": [
    {
     "data": {
      "text/plain": [
       "dict"
      ]
     },
     "execution_count": 201,
     "metadata": {},
     "output_type": "execute_result"
    }
   ],
   "source": [
    "# create some sets \n",
    "my_set={}\n",
    "type(my_set)"
   ]
  },
  {
   "cell_type": "code",
   "execution_count": 205,
   "id": "0369ffe5-14e0-4c31-8fc3-aca840b38039",
   "metadata": {},
   "outputs": [
    {
     "data": {
      "text/plain": [
       "set"
      ]
     },
     "execution_count": 205,
     "metadata": {},
     "output_type": "execute_result"
    }
   ],
   "source": [
    "my_set = set()\n",
    "type(my_set)"
   ]
  },
  {
   "cell_type": "code",
   "execution_count": 207,
   "id": "8b77b5f1-d65e-4651-a52d-b719029fff72",
   "metadata": {},
   "outputs": [
    {
     "data": {
      "text/plain": [
       "{1, 2, 3, 4}"
      ]
     },
     "execution_count": 207,
     "metadata": {},
     "output_type": "execute_result"
    }
   ],
   "source": [
    "my_set1 = {1,2,3,3,4,1}\n",
    "my_set1"
   ]
  },
  {
   "cell_type": "code",
   "execution_count": 25,
   "id": "5f138974-2658-4a01-808d-ccac020a7a44",
   "metadata": {},
   "outputs": [
    {
     "data": {
      "text/plain": [
       "{1, 2, 3, 4}"
      ]
     },
     "execution_count": 25,
     "metadata": {},
     "output_type": "execute_result"
    }
   ],
   "source": [
    "my_set2 = {4,4,3,2,2,3,1}\n",
    "my_set2"
   ]
  },
  {
   "cell_type": "code",
   "execution_count": 211,
   "id": "87020124-475f-458d-bf29-3886bbe01a13",
   "metadata": {},
   "outputs": [
    {
     "data": {
      "text/plain": [
       "True"
      ]
     },
     "execution_count": 211,
     "metadata": {},
     "output_type": "execute_result"
    }
   ],
   "source": [
    "my_set1 ==  my_set2"
   ]
  },
  {
   "cell_type": "markdown",
   "id": "3817e2e4",
   "metadata": {},
   "source": [
    "#### Set methods/operations\n",
    "\n",
    "Sets implement various [methods/operations](https://docs.python.org/3/library/stdtypes.html#set) as noted in the docs."
   ]
  },
  {
   "cell_type": "markdown",
   "id": "1397c4c8",
   "metadata": {},
   "source": [
    "##### Set properties\n",
    "\n",
    "The important properties of sets are as follows:\n",
    " - elements are unique\n",
    " - not subscriptable\n",
    " - iterable\n",
    " - mutable\n",
    " - unordered\n",
    " - elements must be hashable \n"
   ]
  },
  {
   "cell_type": "code",
   "execution_count": 1,
   "id": "c6262fb0",
   "metadata": {},
   "outputs": [
    {
     "data": {
      "text/plain": [
       "{7, 8, 9, 10}"
      ]
     },
     "execution_count": 1,
     "metadata": {},
     "output_type": "execute_result"
    }
   ],
   "source": [
    "# unique elements\n",
    "\n",
    "my_set3 = {7,8,9,8,7,10,8}\n",
    "my_set3\n"
   ]
  },
  {
   "cell_type": "code",
   "execution_count": 3,
   "id": "975e79a4-4b98-4bde-861b-ba002617d01b",
   "metadata": {},
   "outputs": [
    {
     "data": {
      "text/plain": [
       "set"
      ]
     },
     "execution_count": 3,
     "metadata": {},
     "output_type": "execute_result"
    }
   ],
   "source": [
    "type(my_set3)"
   ]
  },
  {
   "cell_type": "code",
   "execution_count": 5,
   "id": "8f961274-8ff7-45ce-a2ea-25a6a4437edb",
   "metadata": {},
   "outputs": [
    {
     "ename": "TypeError",
     "evalue": "'set' object is not subscriptable",
     "output_type": "error",
     "traceback": [
      "\u001b[0;31m---------------------------------------------------------------------------\u001b[0m",
      "\u001b[0;31mTypeError\u001b[0m                                 Traceback (most recent call last)",
      "Cell \u001b[0;32mIn[5], line 3\u001b[0m\n\u001b[1;32m      1\u001b[0m \u001b[38;5;66;03m# not subscriptable\u001b[39;00m\n\u001b[0;32m----> 3\u001b[0m my_set3[\u001b[38;5;241m0\u001b[39m]\n",
      "\u001b[0;31mTypeError\u001b[0m: 'set' object is not subscriptable"
     ]
    }
   ],
   "source": [
    "# not subscriptable\n",
    "\n",
    "my_set3[0] # to get 7 ?\n"
   ]
  },
  {
   "cell_type": "code",
   "execution_count": 21,
   "id": "f63224d7-cbcb-449b-bce2-9ae286173935",
   "metadata": {},
   "outputs": [
    {
     "name": "stdout",
     "output_type": "stream",
     "text": [
      "8\n",
      "9\n",
      "10\n",
      "7\n"
     ]
    }
   ],
   "source": [
    "# iterable\n",
    "for number in my_set3:\n",
    "    print(number)"
   ]
  },
  {
   "cell_type": "code",
   "execution_count": 27,
   "id": "640090e8-e8f1-4d87-9b45-3103ba3c35d1",
   "metadata": {},
   "outputs": [
    {
     "data": {
      "text/plain": [
       "{1, 2, 3, 4}"
      ]
     },
     "execution_count": 27,
     "metadata": {},
     "output_type": "execute_result"
    }
   ],
   "source": [
    "my_set2"
   ]
  },
  {
   "cell_type": "code",
   "execution_count": 29,
   "id": "bab23d2b-6c25-4f9e-9edd-02208916da44",
   "metadata": {},
   "outputs": [
    {
     "data": {
      "text/plain": [
       "{1, 2, 3, 4, 5}"
      ]
     },
     "execution_count": 29,
     "metadata": {},
     "output_type": "execute_result"
    }
   ],
   "source": [
    "# mutable: add, remove, update\n",
    "my_set2.add(5)\n",
    "my_set2"
   ]
  },
  {
   "cell_type": "code",
   "execution_count": 31,
   "id": "41972c19-fbd7-46aa-999d-87b11832cff9",
   "metadata": {},
   "outputs": [],
   "source": [
    "my_set2.remove(3)"
   ]
  },
  {
   "cell_type": "code",
   "execution_count": 33,
   "id": "cd7149a8-80ec-4f14-9813-b3bfa28ae7aa",
   "metadata": {},
   "outputs": [
    {
     "data": {
      "text/plain": [
       "{1, 2, 4, 5}"
      ]
     },
     "execution_count": 33,
     "metadata": {},
     "output_type": "execute_result"
    }
   ],
   "source": [
    "my_set2"
   ]
  },
  {
   "cell_type": "code",
   "execution_count": 1,
   "id": "64022b6f-3985-4cce-9890-bbfdbdb13a71",
   "metadata": {},
   "outputs": [
    {
     "ename": "NameError",
     "evalue": "name 'my_set2' is not defined",
     "output_type": "error",
     "traceback": [
      "\u001b[31m---------------------------------------------------------------------------\u001b[39m",
      "\u001b[31mNameError\u001b[39m                                 Traceback (most recent call last)",
      "\u001b[36mCell\u001b[39m\u001b[36m \u001b[39m\u001b[32mIn[1]\u001b[39m\u001b[32m, line 1\u001b[39m\n\u001b[32m----> \u001b[39m\u001b[32m1\u001b[39m \u001b[43mmy_set2\u001b[49m.remove(\u001b[32m3\u001b[39m)\n",
      "\u001b[31mNameError\u001b[39m: name 'my_set2' is not defined"
     ]
    }
   ],
   "source": [
    "my_set2.remove(3)"
   ]
  },
  {
   "cell_type": "code",
   "execution_count": 41,
   "id": "dae9d963-2a5c-4551-a4f8-4b11fe72167f",
   "metadata": {},
   "outputs": [
    {
     "data": {
      "text/plain": [
       "{1, 2, 5}"
      ]
     },
     "execution_count": 41,
     "metadata": {},
     "output_type": "execute_result"
    }
   ],
   "source": [
    "my_set2.discard(4)\n",
    "my_set2"
   ]
  },
  {
   "cell_type": "code",
   "execution_count": 43,
   "id": "e02121e1-a7fe-447d-8fe7-db574c87d8d4",
   "metadata": {},
   "outputs": [
    {
     "data": {
      "text/plain": [
       "{1, 2, 5}"
      ]
     },
     "execution_count": 43,
     "metadata": {},
     "output_type": "execute_result"
    }
   ],
   "source": [
    "my_set2.discard(4)\n",
    "my_set2"
   ]
  },
  {
   "cell_type": "code",
   "execution_count": 49,
   "id": "9586db8d-eeb3-47ae-9ce3-9d9f58bbe141",
   "metadata": {},
   "outputs": [
    {
     "data": {
      "text/plain": [
       "{1, 7, 8, 9, 10}"
      ]
     },
     "execution_count": 49,
     "metadata": {},
     "output_type": "execute_result"
    }
   ],
   "source": [
    "my_set3.add(1)\n",
    "my_set3"
   ]
  },
  {
   "cell_type": "code",
   "execution_count": 53,
   "id": "da23bc97-e057-47ba-a7ea-485376304cd0",
   "metadata": {},
   "outputs": [
    {
     "data": {
      "text/plain": [
       "{1, 2, 5, 7, 8, 9, 10}"
      ]
     },
     "execution_count": 53,
     "metadata": {},
     "output_type": "execute_result"
    }
   ],
   "source": [
    "my_set2.union(my_set3)"
   ]
  },
  {
   "cell_type": "code",
   "execution_count": 55,
   "id": "ccb9c0b4-b434-4715-b820-0975c4465d0a",
   "metadata": {},
   "outputs": [
    {
     "data": {
      "text/plain": [
       "{1}"
      ]
     },
     "execution_count": 55,
     "metadata": {},
     "output_type": "execute_result"
    }
   ],
   "source": [
    "my_set2.intersection(my_set3)"
   ]
  },
  {
   "cell_type": "code",
   "execution_count": 57,
   "id": "9eac3deb-c91f-42cf-be0f-704bfc03b31d",
   "metadata": {},
   "outputs": [
    {
     "data": {
      "text/plain": [
       "{1, 5, 7, 8, 9, 10}"
      ]
     },
     "execution_count": 57,
     "metadata": {},
     "output_type": "execute_result"
    }
   ],
   "source": [
    "my_set3.add(5)\n",
    "my_set3"
   ]
  },
  {
   "cell_type": "code",
   "execution_count": 59,
   "id": "14c487fc-a2ae-47f1-ad18-56a45b5d4ebb",
   "metadata": {},
   "outputs": [
    {
     "data": {
      "text/plain": [
       "{1, 5}"
      ]
     },
     "execution_count": 59,
     "metadata": {},
     "output_type": "execute_result"
    }
   ],
   "source": [
    "my_set2.intersection(my_set3)"
   ]
  },
  {
   "cell_type": "code",
   "execution_count": 61,
   "id": "b9387f9f-7914-4ccf-9931-89672977043b",
   "metadata": {},
   "outputs": [
    {
     "data": {
      "text/plain": [
       "{1, 2, 5, 7, 8, 9, 10}"
      ]
     },
     "execution_count": 61,
     "metadata": {},
     "output_type": "execute_result"
    }
   ],
   "source": [
    "my_set2 | my_set3 # union"
   ]
  },
  {
   "cell_type": "code",
   "execution_count": 63,
   "id": "31da31a0-119c-4d99-be8f-cdcc4f243625",
   "metadata": {},
   "outputs": [
    {
     "data": {
      "text/plain": [
       "{1, 5}"
      ]
     },
     "execution_count": 63,
     "metadata": {},
     "output_type": "execute_result"
    }
   ],
   "source": [
    "my_set2 & my_set3 # intersection"
   ]
  },
  {
   "cell_type": "code",
   "execution_count": 67,
   "id": "16de5bbf-4ac6-4bd4-b880-446d0a60ad65",
   "metadata": {},
   "outputs": [
    {
     "data": {
      "text/plain": [
       "{1, 2, 5}"
      ]
     },
     "execution_count": 67,
     "metadata": {},
     "output_type": "execute_result"
    }
   ],
   "source": [
    "my_set2"
   ]
  },
  {
   "cell_type": "code",
   "execution_count": 69,
   "id": "6661595c-e5b7-40f7-9453-3ce9f82e6e41",
   "metadata": {},
   "outputs": [
    {
     "data": {
      "text/plain": [
       "{1, 5, 7, 8, 9, 10}"
      ]
     },
     "execution_count": 69,
     "metadata": {},
     "output_type": "execute_result"
    }
   ],
   "source": [
    "my_set3"
   ]
  },
  {
   "cell_type": "code",
   "execution_count": 65,
   "id": "f3374040-6b8a-45a3-9448-aee88a206218",
   "metadata": {},
   "outputs": [
    {
     "data": {
      "text/plain": [
       "{2}"
      ]
     },
     "execution_count": 65,
     "metadata": {},
     "output_type": "execute_result"
    }
   ],
   "source": [
    "my_set2 - my_set3 # diff"
   ]
  },
  {
   "cell_type": "code",
   "execution_count": 71,
   "id": "de85c31a-b606-44c2-b998-10036c88ed90",
   "metadata": {},
   "outputs": [
    {
     "data": {
      "text/plain": [
       "{7, 8, 9, 10}"
      ]
     },
     "execution_count": 71,
     "metadata": {},
     "output_type": "execute_result"
    }
   ],
   "source": [
    "my_set3 - my_set2"
   ]
  },
  {
   "cell_type": "code",
   "execution_count": 73,
   "id": "83b8f0d1-5fe8-46b5-a14c-e75046e26abd",
   "metadata": {},
   "outputs": [
    {
     "data": {
      "text/plain": [
       "{2, 7, 8, 9, 10}"
      ]
     },
     "execution_count": 73,
     "metadata": {},
     "output_type": "execute_result"
    }
   ],
   "source": [
    "my_set2 ^ my_set3 # symmetric diff "
   ]
  },
  {
   "cell_type": "markdown",
   "id": "18e7a8d1",
   "metadata": {},
   "source": [
    "### Mapping types: `dict`"
   ]
  },
  {
   "cell_type": "markdown",
   "id": "efed57f6",
   "metadata": {},
   "source": [
    "#### Dictionary \n",
    "\n",
    "Lists may be constructed in several ways:\n",
    "\n",
    " - using `key:value` pairs with braces:\n",
    "    - empty list: `{}`\n",
    "    - separating items with commas: `{'a':1, 'b':2, 'c':3}`\n",
    " - dictionary comprehension: \n",
    "    - `{x:x**2 for x in range(10)}`\n",
    " - type constructor: \n",
    "    - empty list: `dict()` \n",
    "    - from iterable: `dict([('a', 1), ('b', 2), ('c', 3)])`, `dict(a=1, b=2, c=3)`"
   ]
  },
  {
   "cell_type": "code",
   "execution_count": 75,
   "id": "33496d72",
   "metadata": {},
   "outputs": [
    {
     "data": {
      "text/plain": [
       "{'id': 1, 'name': 'Ali', 'gpa': 3.8}"
      ]
     },
     "execution_count": 75,
     "metadata": {},
     "output_type": "execute_result"
    }
   ],
   "source": [
    "# create some dictionaries\n",
    "student = { \"id\":1,\"name\":\"Ali\",\"gpa\":3.8}\n",
    "student"
   ]
  },
  {
   "cell_type": "code",
   "execution_count": 77,
   "id": "c1a198e3-6b7a-492e-9f3a-34b37b447072",
   "metadata": {},
   "outputs": [
    {
     "data": {
      "text/plain": [
       "dict"
      ]
     },
     "execution_count": 77,
     "metadata": {},
     "output_type": "execute_result"
    }
   ],
   "source": [
    "type(student)"
   ]
  },
  {
   "cell_type": "code",
   "execution_count": 80,
   "id": "d92d7ab5-e200-4ccc-b4a9-df6d79c43941",
   "metadata": {},
   "outputs": [
    {
     "data": {
      "text/plain": [
       "{'id': 100, 'name': 'ISU', 'program': 'CS'}"
      ]
     },
     "execution_count": 80,
     "metadata": {},
     "output_type": "execute_result"
    }
   ],
   "source": [
    "university = dict([('id',100),('name','ISU'),('program','CS')])\n",
    "university"
   ]
  },
  {
   "cell_type": "markdown",
   "id": "8c357436",
   "metadata": {},
   "source": [
    "#### Dictionary operations\n",
    "\n",
    "Dictionaries various [methods/operations](https://docs.python.org/3/library/stdtypes.html#dict) as noted in the docs."
   ]
  },
  {
   "cell_type": "markdown",
   "id": "928c9322",
   "metadata": {},
   "source": [
    "##### Dictionary  properties\n",
    "\n",
    "The important properties of dictionaries are as follows:\n",
    " - access values by keys\n",
    " - iterable\n",
    " - mutable\n",
    " - unordered\n",
    " - keys must be hashable\n",
    " - can be nested\n",
    " - dynamic\n"
   ]
  },
  {
   "cell_type": "code",
   "execution_count": 86,
   "id": "3c0bd246",
   "metadata": {},
   "outputs": [
    {
     "data": {
      "text/plain": [
       "1"
      ]
     },
     "execution_count": 86,
     "metadata": {},
     "output_type": "execute_result"
    }
   ],
   "source": [
    "# access via key, keys, values, items, iterate, mutable: d[k]=v, del, update, ordered, arbitrary objects, nesting\n",
    "# access via key\n",
    "student['id']\n",
    "\n"
   ]
  },
  {
   "cell_type": "code",
   "execution_count": 90,
   "id": "77c856a1-85d2-4123-956d-382ca888666d",
   "metadata": {},
   "outputs": [
    {
     "data": {
      "text/plain": [
       "dict_keys(['id', 'name', 'gpa'])"
      ]
     },
     "execution_count": 90,
     "metadata": {},
     "output_type": "execute_result"
    }
   ],
   "source": [
    "# keys\n",
    "\n",
    "student.keys()\n"
   ]
  },
  {
   "cell_type": "code",
   "execution_count": 92,
   "id": "de1fc577-78d4-4792-9d9f-55e1e44e8bf0",
   "metadata": {},
   "outputs": [
    {
     "data": {
      "text/plain": [
       "dict_values([1, 'Ali', 3.8])"
      ]
     },
     "execution_count": 92,
     "metadata": {},
     "output_type": "execute_result"
    }
   ],
   "source": [
    "# values\n",
    "\n",
    "student.values()\n"
   ]
  },
  {
   "cell_type": "code",
   "execution_count": 94,
   "id": "5e59f04f-09c8-4192-be12-130c1f04be8e",
   "metadata": {},
   "outputs": [
    {
     "data": {
      "text/plain": [
       "dict_items([('id', 1), ('name', 'Ali'), ('gpa', 3.8)])"
      ]
     },
     "execution_count": 94,
     "metadata": {},
     "output_type": "execute_result"
    }
   ],
   "source": [
    "# items\n",
    "student.items()\n"
   ]
  },
  {
   "cell_type": "code",
   "execution_count": 98,
   "id": "b3361097-0e37-400c-b5bc-2e93904cad34",
   "metadata": {},
   "outputs": [
    {
     "name": "stdout",
     "output_type": "stream",
     "text": [
      "id 1\n",
      "name Ali\n",
      "gpa 3.8\n"
     ]
    }
   ],
   "source": [
    "# iterate over keys\n",
    "\n",
    "for key in student:\n",
    "    print(key,student[key])\n"
   ]
  },
  {
   "cell_type": "code",
   "execution_count": 100,
   "id": "0680106e-f0f7-4982-b1c1-6998c27a6909",
   "metadata": {},
   "outputs": [
    {
     "name": "stdout",
     "output_type": "stream",
     "text": [
      "1\n",
      "Ali\n",
      "3.8\n"
     ]
    }
   ],
   "source": [
    "# iterate over values\n",
    "\n",
    "for value in student.values():\n",
    "    print(value)\n"
   ]
  },
  {
   "cell_type": "code",
   "execution_count": 104,
   "id": "8afc3163-fc2a-460d-95bb-05d85b103005",
   "metadata": {},
   "outputs": [
    {
     "name": "stdout",
     "output_type": "stream",
     "text": [
      "id 1\n",
      "name Ali\n",
      "gpa 3.8\n"
     ]
    }
   ],
   "source": [
    "# iterate over key-value pairs\n",
    "\n",
    "for key,value in student.items():\n",
    "    print(key,value)\n"
   ]
  },
  {
   "cell_type": "code",
   "execution_count": 106,
   "id": "52737c1d-46db-44b8-869d-7225c2a60a73",
   "metadata": {},
   "outputs": [
    {
     "data": {
      "text/plain": [
       "{'id': 1, 'name': 'Ali', 'gpa': 3.9}"
      ]
     },
     "execution_count": 106,
     "metadata": {},
     "output_type": "execute_result"
    }
   ],
   "source": [
    "# mutable\n",
    "\n",
    "student['gpa'] = 3.9\n",
    "student"
   ]
  },
  {
   "cell_type": "code",
   "execution_count": 114,
   "id": "b0760eda-461a-49de-be79-09ecf63764ef",
   "metadata": {},
   "outputs": [
    {
     "data": {
      "text/plain": [
       "{'name': 'Ali', 'gpa': 3.9}"
      ]
     },
     "execution_count": 114,
     "metadata": {},
     "output_type": "execute_result"
    }
   ],
   "source": [
    "# del\n",
    "student['id'] = 1\n",
    "del student['id']\n",
    "student"
   ]
  },
  {
   "cell_type": "code",
   "execution_count": 116,
   "id": "202dda37-b751-4d38-b1f0-8aefefd19ea8",
   "metadata": {},
   "outputs": [
    {
     "data": {
      "text/plain": [
       "{'name': 'Sara', 'gpa': 3.9, 'Major': 'CS'}"
      ]
     },
     "execution_count": 116,
     "metadata": {},
     "output_type": "execute_result"
    }
   ],
   "source": [
    "# update\n",
    "student.update({'name':'Sara','Major':'CS'})\n",
    "student\n"
   ]
  },
  {
   "cell_type": "code",
   "execution_count": 118,
   "id": "c0e90f3c-49df-46bc-a59f-4f7c272ae29b",
   "metadata": {},
   "outputs": [
    {
     "data": {
      "text/plain": [
       "['Major', 'gpa', 'name']"
      ]
     },
     "execution_count": 118,
     "metadata": {},
     "output_type": "execute_result"
    }
   ],
   "source": [
    "# ordered\n",
    "sorted(student)\n"
   ]
  },
  {
   "cell_type": "code",
   "execution_count": 120,
   "id": "05d1c213-5d2b-4d99-9b2c-5af42ef67de1",
   "metadata": {},
   "outputs": [
    {
     "data": {
      "text/plain": [
       "{'name': 'Sara', 'gpa': 3.9, 'Major': 'CS', 'grades': [100, 89, 78, 92]}"
      ]
     },
     "execution_count": 120,
     "metadata": {},
     "output_type": "execute_result"
    }
   ],
   "source": [
    "# arbitrary objects\n",
    "student['grades'] = [100,89,78,92]\n",
    "student"
   ]
  },
  {
   "cell_type": "code",
   "execution_count": 122,
   "id": "36862b9c-4002-44bb-806a-8834cc87ab69",
   "metadata": {},
   "outputs": [
    {
     "data": {
      "text/plain": [
       "{'stu1': {'name': 'Sara',\n",
       "  'gpa': 3.9,\n",
       "  'Major': 'CS',\n",
       "  'grades': [100, 89, 78, 92]},\n",
       " 'stu2': {'name': 'Ali',\n",
       "  'gpa': 3.8,\n",
       "  'Major': 'DS',\n",
       "  'grades': [90, 92, 80, 78]}}"
      ]
     },
     "execution_count": 122,
     "metadata": {},
     "output_type": "execute_result"
    }
   ],
   "source": [
    "# nesting\n",
    "student_2 = {'name': 'Ali', 'gpa': 3.8, 'Major': 'DS', 'grades': [90, 92, 80, 78]}\n",
    "nested_dic = {'stu1':student,'stu2':student_2}\n",
    "nested_dic"
   ]
  },
  {
   "cell_type": "code",
   "execution_count": 124,
   "id": "1995e107-8ef9-46ef-ae1c-763f844f3de6",
   "metadata": {},
   "outputs": [
    {
     "data": {
      "text/plain": [
       "3.8"
      ]
     },
     "execution_count": 124,
     "metadata": {},
     "output_type": "execute_result"
    }
   ],
   "source": [
    "nested_dic['stu2']['gpa']"
   ]
  },
  {
   "cell_type": "code",
   "execution_count": 128,
   "id": "776b0df9-3e1f-4062-a8ea-a38257e2e3fe",
   "metadata": {},
   "outputs": [
    {
     "name": "stdout",
     "output_type": "stream",
     "text": [
      "Sara\n",
      "3.9\n",
      "CS\n",
      "[100, 89, 78, 92]\n",
      "Ali\n",
      "3.8\n",
      "DS\n",
      "[90, 92, 80, 78]\n"
     ]
    }
   ],
   "source": [
    "for key in nested_dic:\n",
    "    for key_ in nested_dic[key]:\n",
    "        print(nested_dic[key][key_])"
   ]
  },
  {
   "cell_type": "code",
   "execution_count": null,
   "id": "e55a55ce-c0ba-4196-b43e-a6e71f843dc6",
   "metadata": {},
   "outputs": [],
   "source": []
  }
 ],
 "metadata": {
  "kernelspec": {
   "display_name": "Python 3",
   "language": "python",
   "name": "python3"
  },
  "language_info": {
   "codemirror_mode": {
    "name": "ipython",
    "version": 3
   },
   "file_extension": ".py",
   "mimetype": "text/x-python",
   "name": "python",
   "nbconvert_exporter": "python",
   "pygments_lexer": "ipython3",
   "version": "3.12.1"
  }
 },
 "nbformat": 4,
 "nbformat_minor": 5
}
