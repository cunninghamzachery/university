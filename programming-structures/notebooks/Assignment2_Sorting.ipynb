{
  "metadata": {
    "kernelspec": {
      "name": "xcpp17",
      "display_name": "C++17",
      "language": "cpp"
    },
    "language_info": {
      "codemirror_mode": "text/x-c++src",
      "file_extension": ".cpp",
      "mimetype": "text/x-c++src",
      "name": "C++",
      "version": "17"
    }
  },
  "nbformat_minor": 5,
  "nbformat": 4,
  "cells": [
    {
      "id": "90ce47b2",
      "cell_type": "markdown",
      "source": "# Sorting Algorithms Assignment (CS201)\n\nThis assignment covers **Selection Sort**, **Insertion Sort**, **Merge Sort (iterative)**, and **Quick/Code Sort (iterative)** — exactly as presented in class (no recursion).\n\n**Weighting:** 4 questions × 25% each = **100%**.\n\n**Rules**\n- Use only the approaches shown in class (no built‑ins like `list.sort()` or `sorted()` for the core algorithm steps).\n- For Merge Sort and Quick/Code Sort, **use the iterative versions** (as covered in lecture) — no recursion.\n- Show **intermediate steps** where asked (splitting/merging for Merge Sort; partitioning/stack updates for Quick/Code Sort).\n- The use of AI tools or AI-assisted code generation is strictly prohibited for this course. Submissions found to contain AI-generated code, or identifiable AI signatures, will be considered a violation of academic integrity and will result in academic consequences in accordance with university policy. All work submitted must represent your own independent effort.\n---\n",
      "metadata": {}
    },
    {
      "id": "1fb8b96f",
      "cell_type": "markdown",
      "source": "## Q1 (25%) — Selection Sort: Step Tracing & Analysis\n\nGiven the list:\n```\n[64, 25, 12, 22, 11, 90, 45, 33]\n```\n**Tasks**\n1. Using the Selection Sort version from class, show the state of the list after each outer‑loop pass.\n2. Count the total number of comparisons and number of swaps performed by your run.\n3. Explain briefly why the number of comparisons in Selection Sort does **not** depend on whether the list is already sorted.\n",
      "metadata": {}
    },
    {
      "id": "77fc8c5f",
      "cell_type": "code",
      "source": "",
      "metadata": {},
      "outputs": [],
      "execution_count": null
    },
    {
      "id": "e16da070",
      "cell_type": "markdown",
      "source": "## Q2 (25%) — Insertion Sort: Best vs. Worst Case\n\nConsider Insertion Sort on the following cases:\n\n- Case A (already sorted):\n```\n[5, 10, 15, 20, 25, 30, 35, 40]\n```\n- Case B (reverse sorted):\n```\n[40, 35, 30, 25, 20, 15, 10, 5]\n```\n\n**Tasks**\n1. Trace and show the list after each insertion step for **Case B** only.\n2. Report and compare the total number of element shifts/moves in Case A vs. Case B.\n3. In 2–4 sentences, explain why Insertion Sort performs much better on nearly sorted data than Selection Sort.\n",
      "metadata": {}
    },
    {
      "id": "24c19dd8",
      "cell_type": "code",
      "source": "",
      "metadata": {},
      "outputs": [],
      "execution_count": null
    },
    {
      "id": "859b79f2",
      "cell_type": "markdown",
      "source": "## Q3 (25%) — Iterative Merge Sort: Splitting & Merging\n\nUsing the **iterative (non‑recursive)** Merge Sort from class, sort the list:\n```\n[45, 23, 89, 12, 77, 34, 56, 90, 11, 67, 43, 28, 99, 61, 72]\n```\n**Tasks**\n1. Show how the list is divided into sublists at each iteration (i.e., the block size doubling progression).\n2. Show how the sublists are merged step by step until the final sorted list is obtained.\n3. In 2–4 sentences, compare the runtime growth of Merge Sort vs. Insertion Sort for large inputs.\n",
      "metadata": {}
    },
    {
      "id": "a55076f8",
      "cell_type": "code",
      "source": "",
      "metadata": {},
      "outputs": [],
      "execution_count": null
    },
    {
      "id": "6b064d6a",
      "cell_type": "markdown",
      "source": "## Q4 (25%) — Iterative Quick (Code) Sort: Partitioning & Stack\n\nUsing the **iterative Quick Sort** version from class (pivot = last element), sort the list:\n```\n[88, 12, 56, 74, 33, 91, 47, 62, 5, 39, 18, 70, 25, 99, 41]\n```\n**Tasks**\n1. Show how the partitioning operates at each major step (pivot chosen, final pivot index, array state after partition).\n2. Show how the stack/list of sub‑ranges changes during the iterative process.\n3. Briefly discuss how choosing the first element as pivot (instead of the last) could impact performance depending on input order.\n",
      "metadata": {}
    },
    {
      "id": "f2190d07",
      "cell_type": "code",
      "source": "",
      "metadata": {},
      "outputs": [],
      "execution_count": null
    },
    {
      "id": "abc73973",
      "cell_type": "markdown",
      "source": "---\n\n**Submission Tips**\n- Keep traces readable (you may format as lists per step).\n- If your printing gets long, consider summarizing by showing **key steps** and include counts (e.g., how many merges, how many partitions).\n- Make sure your code runs end‑to‑end.\n",
      "metadata": {}
    }
  ]
}