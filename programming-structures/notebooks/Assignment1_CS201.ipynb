{
 "cells": [
  {
   "cell_type": "markdown",
   "id": "169db933",
   "metadata": {},
   "source": [
    "# Assignment 1 — Sets, Dictionaries, Stacks, Queues (list & deque), Linked Lists\n",
    "*Date:* 2025-09-04\n",
    "\n",
    "This assignment covers:\n",
    "- **Sets** \n",
    "- **Dictionaries** \n",
    "- **Stacks using lists** \n",
    "- **Queues using lists and using `collections.deque`** \n",
    "- **Linked Lists without OOP** \n",
    "\n",
    "Please implement functions exactly as specified in each task.\n"
   ]
  },
  {
   "cell_type": "markdown",
   "id": "e0f64226-944d-4930-95dc-e5d950097733",
   "metadata": {},
   "source": [
    "## Rules\n",
    "- No AI by any means.\n",
    "- Only use Python built-ins and standard library (allowed: `collections.deque` for the deque section).\n",
    "- No external libraries.\n",
    "- Write clean, readable code with helpful comments where appropriate.\n",
    "\n",
    "\n",
    "Sources:\n",
    "https://www.w3schools.com/python/ref_string_isalnum.asp\n",
    "https://dev.to/shavonharrisdev/understanding-k-element-patterns-in-leetcode-the-basics-part-1-186p\n",
    "https://docs.python.org/3/library/functions.html#float"
   ]
  },
  {
   "cell_type": "markdown",
   "id": "2933c24f",
   "metadata": {},
   "source": [
    "## A) Sets — Question 1"
   ]
  },
  {
   "cell_type": "markdown",
   "id": "67bee863",
   "metadata": {},
   "source": [
    "Write a function that takes two sets of integers and does the following:\n",
    "- Check if the first set is a subset of the second set.\n",
    "- Compute the symmetric difference, meaning the elements that are in either set but not in both.\n",
    "Return both results."
   ]
  },
  {
   "cell_type": "code",
   "execution_count": null,
   "id": "7a7bf0aa",
   "metadata": {},
   "outputs": [],
   "source": []
  },
  {
   "cell_type": "markdown",
   "id": "caa35764",
   "metadata": {},
   "source": [
    "## B) Dictionaries — Question 2"
   ]
  },
  {
   "cell_type": "markdown",
   "id": "8cbae303",
   "metadata": {},
   "source": [
    "Write a function that takes two dictionaries whose keys are strings and values are integers. Merge them into a single dictionary. If the same key appears in both dictionaries, its value in the result should be the sum of the two values."
   ]
  },
  {
   "cell_type": "code",
   "execution_count": null,
   "id": "6158a64d",
   "metadata": {},
   "outputs": [],
   "source": [
    "def merge_dictionaries(a,b):\n",
    "    for key in b.keys():\n",
    "        if key in a.keys():\n",
    "            a[key] += b[key]\n",
    "        else:\n",
    "            a[key] = b[key]\n",
    "    return a\n",
    "\n",
    "\n",
    "\n",
    "\n"
   ]
  },
  {
   "cell_type": "code",
   "execution_count": null,
   "id": "55f920fd",
   "metadata": {},
   "outputs": [],
   "source": [
    "a = {\"one\" : 1, \"two\" : 2, \"three\" : 3}\n",
    "b = {\"seven\" : 7, \"nine\" : 9, \"two\" : 2}\n",
    "merge_dictionaries(a,b)"
   ]
  },
  {
   "cell_type": "markdown",
   "id": "916bd222",
   "metadata": {},
   "source": [
    "## C) Stacks — Question 3"
   ]
  },
  {
   "cell_type": "markdown",
   "id": "ea1856f8",
   "metadata": {},
   "source": [
    "Write a function that determines whether a given string is a palindrome (the same forwards and backwards).\n",
    "- Ignore non-alphanumeric characters.\n",
    "- Treat uppercase and lowercase letters as the same.\n",
    "- Use a stack to help check the string."
   ]
  },
  {
   "cell_type": "code",
   "execution_count": null,
   "id": "f835df3c",
   "metadata": {},
   "outputs": [],
   "source": [
    "alphanumeric = \"abcdefghijklmnopqrstuvwxyz0123456789\"\n",
    "\n",
    "def is_palindrome(word):\n",
    "    stack = []\n",
    "    \n",
    "    for letter in word.lower():\n",
    "        if letter in alphanumeric:\n",
    "            stack.append(letter)\n",
    "            \n",
    "    forwards = \"\".join(stack)\n",
    "    backwards = \"\"\n",
    "    \n",
    "    while stack:\n",
    "        backwards += stack.pop()\n",
    "        \n",
    "    if forwards == backwards:\n",
    "        return True\n",
    "    else:\n",
    "        return False        "
   ]
  },
  {
   "cell_type": "code",
   "execution_count": null,
   "id": "871203bd",
   "metadata": {},
   "outputs": [],
   "source": [
    "is_palindrome(\"racecar\")"
   ]
  },
  {
   "cell_type": "markdown",
   "id": "32c8d4e3",
   "metadata": {},
   "source": [
    "## D) Queues (lists) — Question 4"
   ]
  },
  {
   "cell_type": "markdown",
   "id": "1fb72628",
   "metadata": {},
   "source": [
    "Write a function that computes the moving average of a list of numbers using a fixed-size window.\n",
    "- Use a queue to keep track of the most recent k numbers.\n",
    "- For each full window, calculate the average and add it to the result.\n",
    "\n",
    "Example: (k = 3),\n",
    "Numbers: [1, 2, 3, 4, 5]\n",
    "\n",
    "Windows and averages:\n",
    "- [1, 2, 3] → (1+2+3)/3 = 2.0\n",
    "- [2, 3, 4] → (2+3+4)/3 = 3.0\n",
    "- [3, 4, 5] → (3+4+5)/3 = 4.0\n",
    "\n",
    "Result: [2.0, 3.0, 4.0]"
   ]
  },
  {
   "cell_type": "code",
   "execution_count": null,
   "id": "bc599d23",
   "metadata": {},
   "outputs": [],
   "source": [
    "def moving_average(k, nums):\n",
    "    result = []\n",
    "    while len(nums) >= k:\n",
    "\n",
    "        result.append(sum(nums[0:k])/k)\n",
    "        nums.pop(0)\n",
    "        \n",
    "    return result"
   ]
  },
  {
   "cell_type": "code",
   "execution_count": 8,
   "id": "1d6dfc3c",
   "metadata": {},
   "outputs": [
    {
     "name": "stdout",
     "output_type": "stream",
     "text": [
      "[2.0, 3.0, 4.0, 5.0, 6.0, 7.0, 8.0]\n"
     ]
    }
   ],
   "source": [
    "print(moving_average(3, [1, 2, 3, 4, 5, 6, 7, 8, 9]))"
   ]
  },
  {
   "cell_type": "markdown",
   "id": "12f65e97",
   "metadata": {},
   "source": [
    "## E) Deque — Question 5"
   ]
  },
  {
   "cell_type": "markdown",
   "id": "fa4acdec",
   "metadata": {},
   "source": [
    "Write a function that simulates a ticket counter where people can arrive normally, arrive as VIPs, or be served in order.\n",
    "- Normal arrivals are added to the end of the line.\n",
    "- VIPs are added to the front of the line.\n",
    "- Serving means removing the person at the front of the line and recording their name as served.\n",
    "Use a deque to implement this system."
   ]
  },
  {
   "cell_type": "code",
   "execution_count": null,
   "id": "ff9a92b1",
   "metadata": {},
   "outputs": [],
   "source": [
    "#will do later"
   ]
  },
  {
   "cell_type": "markdown",
   "id": "279e86f0",
   "metadata": {},
   "source": [
    "## F) Linked Lists — Question 6"
   ]
  },
  {
   "cell_type": "markdown",
   "id": "0c77fbb6",
   "metadata": {},
   "source": [
    "Write a function that reverses a singly linked list (iteratively, not recursively).\n",
    "Return the new head of the reversed list along with the updated nodes."
   ]
  },
  {
   "cell_type": "code",
   "execution_count": null,
   "id": "b44c0963",
   "metadata": {},
   "outputs": [],
   "source": []
  }
 ],
 "metadata": {
  "kernelspec": {
   "display_name": "Python 3",
   "language": "python",
   "name": "python3"
  },
  "language_info": {
   "codemirror_mode": {
    "name": "ipython",
    "version": 3
   },
   "file_extension": ".py",
   "mimetype": "text/x-python",
   "name": "python",
   "nbconvert_exporter": "python",
   "pygments_lexer": "ipython3",
   "version": "3.12.1"
  }
 },
 "nbformat": 4,
 "nbformat_minor": 5
}
